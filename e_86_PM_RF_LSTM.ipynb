{
  "cells": [
    {
      "cell_type": "markdown",
      "metadata": {
        "id": "E9oimswwkkte"
      },
      "source": [
        "# 예지 보수 Predictive Maintenance (PM)\n",
        "\n",
        "- 보수의 종류\n",
        "  > 고장 후 보수: 기기가 고장이 나면 보수를 하는 것\n",
        "  > 정기적인 보수: 일정한 시간 간격으로 보수를 하는 것\n",
        "  > 예지 보수: 고장을 예측하여 적절한 시점에 보수를 하는 것\n",
        "- 예제\n",
        " - 항공기 엔진 고장 시점 및 일정 기간내 고장발생 여부 예측\n",
        " - 회귀모델과 분류모델\n",
        " - RF와 LSTM 비교\n",
        " - 시계열 특성 추가 방법"
      ]
    },
    {
      "cell_type": "markdown",
      "metadata": {
        "id": "-agCzTE1kkth"
      },
      "source": [
        "## PM 회귀 모델\n",
        "- TTF(time to fail): 고장까지 남은 시간을 예측하는 회귀 모델로 구현\n",
        "<img src=\"https://github.com/data-labs/image/blob/main/%E1%84%89%E1%85%B3%E1%84%8F%E1%85%B3%E1%84%85%E1%85%B5%E1%86%AB%E1%84%89%E1%85%A3%E1%86%BA%202021-02-15%20%E1%84%8B%E1%85%A9%E1%84%92%E1%85%AE%2010.02.12.png?raw=1\" align='left'>"
      ]
    },
    {
      "cell_type": "markdown",
      "metadata": {
        "id": "PmIT6n90kkti"
      },
      "source": [
        "## PM 분류 모델 (이진 분류)\n",
        "- U (Unsafe): TTF가 주어진 경계치 이하로 낮은 위험한 상태\n",
        "- U 값이 0/1을 갖는 이진 분류 모델로 구현\n",
        "<img src=\"https://github.com/data-labs/image/blob/main/%E1%84%89%E1%85%B3%E1%84%8F%E1%85%B3%E1%84%85%E1%85%B5%E1%86%AB%E1%84%89%E1%85%A3%E1%86%BA%202021-02-15%20%E1%84%8B%E1%85%A9%E1%84%92%E1%85%AE%2010.03.35.png?raw=1\" align='left'>"
      ]
    },
    {
      "cell_type": "markdown",
      "metadata": {
        "id": "wwStaTJEkkti"
      },
      "source": [
        "## PM 분류 모델 (다중  분류)\n",
        "- U (Unsafe): 위험한 상태를 2개 이상으로 분류\n",
        "- U 값이 0/1/2 세가지를 갖는 다중 분류 모델로 구현\n",
        "\n",
        "<img src=\"https://github.com/data-labs/image/blob/main/%E1%84%89%E1%85%B3%E1%84%8F%E1%85%B3%E1%84%85%E1%85%B5%E1%86%AB%E1%84%89%E1%85%A3%E1%86%BA%202021-02-15%20%E1%84%8B%E1%85%A9%E1%84%92%E1%85%AE%2010.45.50.png?raw=1\" align='left'>"
      ]
    },
    {
      "cell_type": "markdown",
      "metadata": {
        "id": "v2zcqFJq-A7j"
      },
      "source": [
        "# Import"
      ]
    },
    {
      "cell_type": "code",
      "execution_count": null,
      "metadata": {
        "id": "SQyS8RKM94_v"
      },
      "outputs": [],
      "source": [
        "import pandas as pd\n",
        "import numpy as np\n",
        "import matplotlib.pyplot as plt\n",
        "%config InlineBackend.figure_format = 'retina'\n",
        "import keras\n",
        "from keras import Sequential\n",
        "from sklearn.ensemble import RandomForestClassifier, RandomForestRegressor\n",
        "from sklearn.preprocessing import MinMaxScaler\n",
        "from lightgbm import LGBMClassifier, LGBMRegressor\n",
        "from keras.layers import Dropout, LSTM, Dense, Activation\n",
        "from sklearn.metrics import r2_score\n",
        "from sklearn.metrics import precision_recall_curve, average_precision_score\n",
        "from sklearn.metrics import confusion_matrix, classification_report"
      ]
    },
    {
      "cell_type": "markdown",
      "metadata": {
        "collapsed": true,
        "id": "EobVa7hY4jtO"
      },
      "source": [
        "# 데이터\n",
        "- 훈련 데이터에는 엔진별 가동 데이터와 수명정보가 있고\n",
        "- 테스트 데이터에는 엔진 가동 정보만 있고 정답은 (향후 잔여수명)은 별도의 truth 데이터로 제공한다"
      ]
    },
    {
      "cell_type": "markdown",
      "metadata": {
        "id": "cqNj-7FR_AZF"
      },
      "source": [
        "- 컬럼 (변수) 설명\n",
        " -\t__id__: 엔진 ID (1~100)\n",
        " -\t__cycle__: 엔진별 운행 시퀀스 번호, (1~ 고장시점 까지)\n",
        " -\t__setting1__ to __setting3__: 엔진 운영 설정 변수\n",
        " -\t__s1__ to __s21__: 센서 값\n"
      ]
    },
    {
      "cell_type": "code",
      "execution_count": null,
      "metadata": {
        "collapsed": true,
        "id": "6eqFV7-q4jtO"
      },
      "outputs": [],
      "source": [
        "# 훈련 데이터\n",
        "train_df = pd.read_csv('http://azuremlsamples.azureml.net/templatedata/PM_train.txt', sep=\" \", header=None)\n",
        "train_df.drop(train_df.columns[[26, 27]], axis=1, inplace=True)\n",
        "train_df.columns = ['id', 'cycle', 'setting1', 'setting2', 'setting3', 's1', 's2', 's3',\n",
        "                     's4', 's5', 's6', 's7', 's8', 's9', 's10', 's11', 's12', 's13', 's14',\n",
        "                     's15', 's16', 's17', 's18', 's19', 's20', 's21']"
      ]
    },
    {
      "cell_type": "code",
      "execution_count": null,
      "metadata": {
        "collapsed": true,
        "id": "v3PK7cud4jtP"
      },
      "outputs": [],
      "source": [
        "# 테스트 데이터\n",
        "test_df = pd.read_csv('http://azuremlsamples.azureml.net/templatedata/PM_test.txt', sep=\" \", header=None)\n",
        "test_df.drop(test_df.columns[[26, 27]], axis=1, inplace=True)\n",
        "test_df.columns = ['id', 'cycle', 'setting1', 'setting2', 'setting3', 's1', 's2', 's3',\n",
        "                     's4', 's5', 's6', 's7', 's8', 's9', 's10', 's11', 's12', 's13', 's14',\n",
        "                     's15', 's16', 's17', 's18', 's19', 's20', 's21']"
      ]
    },
    {
      "cell_type": "code",
      "execution_count": null,
      "metadata": {
        "collapsed": true,
        "id": "hvJu-XLC4jtQ"
      },
      "outputs": [],
      "source": [
        "# 정답 (테스트데이터의 잔여 수명) 데이터\n",
        "truth_df = pd.read_csv('http://azuremlsamples.azureml.net/templatedata/PM_truth.txt', sep=\" \", header=None)\n",
        "truth_df.drop(truth_df.columns[[1]], axis=1, inplace=True)"
      ]
    },
    {
      "cell_type": "code",
      "execution_count": null,
      "metadata": {
        "id": "UPCzZspU4jtQ"
      },
      "outputs": [],
      "source": [
        "train_df = train_df.sort_values(['id','cycle'])"
      ]
    },
    {
      "cell_type": "markdown",
      "metadata": {
        "id": "Y9hv9neg4jtR"
      },
      "source": [
        "## 레이블(y) 컬럼 추가\n",
        "- 회귀 분석에서는 잔여시간(TTF)을 예측하며 각 상태(State) 값을 보고 앞으로 남은 잔여시간을 예측하는 회귀 모델을 만든다\n",
        "- 분류 분석에서는 앞으로 특정 기간 이내에 고장 날지 여부를 예측한다\n",
        " - 이진 분류: 예를 들어 30 사이클 이내에 고장 여부를 분류한다 (0/1 구분)\n",
        " - 다중 분류: 예를 들어 30 사이클 이내에 고장이 날지 또는 15 사이클 이내 고장이 날지를 나누어 예측한다 (0/1/2 구분)\n",
        "- 회귀 및 분류를 위한 레이블을 만들겠다"
      ]
    },
    {
      "cell_type": "markdown",
      "metadata": {
        "id": "YqzGXuxc_hOd"
      },
      "source": [
        "- RUL(Remaining Useful Life)\n",
        " - 같은 엔진 ID에 대해서 최대 cycle 값이 \"수명\"을 나타낸다\n",
        " - 이 수명값을 rul 데이터프레임에 저장한다\n",
        " - 같은 엔진들 즉 같은 'id'를 같는 행들을 각각 별도의 데이터프레임으로 만드는 groupby를 사용한다"
      ]
    },
    {
      "cell_type": "code",
      "execution_count": null,
      "metadata": {
        "colab": {
          "base_uri": "https://localhost:8080/",
          "height": 300
        },
        "id": "fDdWJr_m4jtR",
        "outputId": "bc9ad338-6151-4cb4-b7fc-8bb9ebc9491a"
      },
      "outputs": [
        {
          "data": {
            "text/html": [
              "\n",
              "  <div id=\"df-92953eee-0e11-43b3-a6e2-56ff2a3b5210\">\n",
              "    <div class=\"colab-df-container\">\n",
              "      <div>\n",
              "<style scoped>\n",
              "    .dataframe tbody tr th:only-of-type {\n",
              "        vertical-align: middle;\n",
              "    }\n",
              "\n",
              "    .dataframe tbody tr th {\n",
              "        vertical-align: top;\n",
              "    }\n",
              "\n",
              "    .dataframe thead th {\n",
              "        text-align: right;\n",
              "    }\n",
              "</style>\n",
              "<table border=\"1\" class=\"dataframe\">\n",
              "  <thead>\n",
              "    <tr style=\"text-align: right;\">\n",
              "      <th></th>\n",
              "      <th>id</th>\n",
              "      <th>cycle</th>\n",
              "      <th>setting1</th>\n",
              "      <th>setting2</th>\n",
              "      <th>setting3</th>\n",
              "      <th>s1</th>\n",
              "      <th>s2</th>\n",
              "      <th>s3</th>\n",
              "      <th>s4</th>\n",
              "      <th>s5</th>\n",
              "      <th>...</th>\n",
              "      <th>s13</th>\n",
              "      <th>s14</th>\n",
              "      <th>s15</th>\n",
              "      <th>s16</th>\n",
              "      <th>s17</th>\n",
              "      <th>s18</th>\n",
              "      <th>s19</th>\n",
              "      <th>s20</th>\n",
              "      <th>s21</th>\n",
              "      <th>RUL</th>\n",
              "    </tr>\n",
              "  </thead>\n",
              "  <tbody>\n",
              "    <tr>\n",
              "      <th>0</th>\n",
              "      <td>1</td>\n",
              "      <td>1</td>\n",
              "      <td>-0.0007</td>\n",
              "      <td>-0.0004</td>\n",
              "      <td>100.0</td>\n",
              "      <td>518.67</td>\n",
              "      <td>641.82</td>\n",
              "      <td>1589.70</td>\n",
              "      <td>1400.60</td>\n",
              "      <td>14.62</td>\n",
              "      <td>...</td>\n",
              "      <td>2388.02</td>\n",
              "      <td>8138.62</td>\n",
              "      <td>8.4195</td>\n",
              "      <td>0.03</td>\n",
              "      <td>392</td>\n",
              "      <td>2388</td>\n",
              "      <td>100.0</td>\n",
              "      <td>39.06</td>\n",
              "      <td>23.4190</td>\n",
              "      <td>191</td>\n",
              "    </tr>\n",
              "    <tr>\n",
              "      <th>1</th>\n",
              "      <td>1</td>\n",
              "      <td>2</td>\n",
              "      <td>0.0019</td>\n",
              "      <td>-0.0003</td>\n",
              "      <td>100.0</td>\n",
              "      <td>518.67</td>\n",
              "      <td>642.15</td>\n",
              "      <td>1591.82</td>\n",
              "      <td>1403.14</td>\n",
              "      <td>14.62</td>\n",
              "      <td>...</td>\n",
              "      <td>2388.07</td>\n",
              "      <td>8131.49</td>\n",
              "      <td>8.4318</td>\n",
              "      <td>0.03</td>\n",
              "      <td>392</td>\n",
              "      <td>2388</td>\n",
              "      <td>100.0</td>\n",
              "      <td>39.00</td>\n",
              "      <td>23.4236</td>\n",
              "      <td>190</td>\n",
              "    </tr>\n",
              "    <tr>\n",
              "      <th>2</th>\n",
              "      <td>1</td>\n",
              "      <td>3</td>\n",
              "      <td>-0.0043</td>\n",
              "      <td>0.0003</td>\n",
              "      <td>100.0</td>\n",
              "      <td>518.67</td>\n",
              "      <td>642.35</td>\n",
              "      <td>1587.99</td>\n",
              "      <td>1404.20</td>\n",
              "      <td>14.62</td>\n",
              "      <td>...</td>\n",
              "      <td>2388.03</td>\n",
              "      <td>8133.23</td>\n",
              "      <td>8.4178</td>\n",
              "      <td>0.03</td>\n",
              "      <td>390</td>\n",
              "      <td>2388</td>\n",
              "      <td>100.0</td>\n",
              "      <td>38.95</td>\n",
              "      <td>23.3442</td>\n",
              "      <td>189</td>\n",
              "    </tr>\n",
              "    <tr>\n",
              "      <th>3</th>\n",
              "      <td>1</td>\n",
              "      <td>4</td>\n",
              "      <td>0.0007</td>\n",
              "      <td>0.0000</td>\n",
              "      <td>100.0</td>\n",
              "      <td>518.67</td>\n",
              "      <td>642.35</td>\n",
              "      <td>1582.79</td>\n",
              "      <td>1401.87</td>\n",
              "      <td>14.62</td>\n",
              "      <td>...</td>\n",
              "      <td>2388.08</td>\n",
              "      <td>8133.83</td>\n",
              "      <td>8.3682</td>\n",
              "      <td>0.03</td>\n",
              "      <td>392</td>\n",
              "      <td>2388</td>\n",
              "      <td>100.0</td>\n",
              "      <td>38.88</td>\n",
              "      <td>23.3739</td>\n",
              "      <td>188</td>\n",
              "    </tr>\n",
              "    <tr>\n",
              "      <th>4</th>\n",
              "      <td>1</td>\n",
              "      <td>5</td>\n",
              "      <td>-0.0019</td>\n",
              "      <td>-0.0002</td>\n",
              "      <td>100.0</td>\n",
              "      <td>518.67</td>\n",
              "      <td>642.37</td>\n",
              "      <td>1582.85</td>\n",
              "      <td>1406.22</td>\n",
              "      <td>14.62</td>\n",
              "      <td>...</td>\n",
              "      <td>2388.04</td>\n",
              "      <td>8133.80</td>\n",
              "      <td>8.4294</td>\n",
              "      <td>0.03</td>\n",
              "      <td>393</td>\n",
              "      <td>2388</td>\n",
              "      <td>100.0</td>\n",
              "      <td>38.90</td>\n",
              "      <td>23.4044</td>\n",
              "      <td>187</td>\n",
              "    </tr>\n",
              "  </tbody>\n",
              "</table>\n",
              "<p>5 rows × 27 columns</p>\n",
              "</div>\n",
              "      <button class=\"colab-df-convert\" onclick=\"convertToInteractive('df-92953eee-0e11-43b3-a6e2-56ff2a3b5210')\"\n",
              "              title=\"Convert this dataframe to an interactive table.\"\n",
              "              style=\"display:none;\">\n",
              "        \n",
              "  <svg xmlns=\"http://www.w3.org/2000/svg\" height=\"24px\"viewBox=\"0 0 24 24\"\n",
              "       width=\"24px\">\n",
              "    <path d=\"M0 0h24v24H0V0z\" fill=\"none\"/>\n",
              "    <path d=\"M18.56 5.44l.94 2.06.94-2.06 2.06-.94-2.06-.94-.94-2.06-.94 2.06-2.06.94zm-11 1L8.5 8.5l.94-2.06 2.06-.94-2.06-.94L8.5 2.5l-.94 2.06-2.06.94zm10 10l.94 2.06.94-2.06 2.06-.94-2.06-.94-.94-2.06-.94 2.06-2.06.94z\"/><path d=\"M17.41 7.96l-1.37-1.37c-.4-.4-.92-.59-1.43-.59-.52 0-1.04.2-1.43.59L10.3 9.45l-7.72 7.72c-.78.78-.78 2.05 0 2.83L4 21.41c.39.39.9.59 1.41.59.51 0 1.02-.2 1.41-.59l7.78-7.78 2.81-2.81c.8-.78.8-2.07 0-2.86zM5.41 20L4 18.59l7.72-7.72 1.47 1.35L5.41 20z\"/>\n",
              "  </svg>\n",
              "      </button>\n",
              "      \n",
              "  <style>\n",
              "    .colab-df-container {\n",
              "      display:flex;\n",
              "      flex-wrap:wrap;\n",
              "      gap: 12px;\n",
              "    }\n",
              "\n",
              "    .colab-df-convert {\n",
              "      background-color: #E8F0FE;\n",
              "      border: none;\n",
              "      border-radius: 50%;\n",
              "      cursor: pointer;\n",
              "      display: none;\n",
              "      fill: #1967D2;\n",
              "      height: 32px;\n",
              "      padding: 0 0 0 0;\n",
              "      width: 32px;\n",
              "    }\n",
              "\n",
              "    .colab-df-convert:hover {\n",
              "      background-color: #E2EBFA;\n",
              "      box-shadow: 0px 1px 2px rgba(60, 64, 67, 0.3), 0px 1px 3px 1px rgba(60, 64, 67, 0.15);\n",
              "      fill: #174EA6;\n",
              "    }\n",
              "\n",
              "    [theme=dark] .colab-df-convert {\n",
              "      background-color: #3B4455;\n",
              "      fill: #D2E3FC;\n",
              "    }\n",
              "\n",
              "    [theme=dark] .colab-df-convert:hover {\n",
              "      background-color: #434B5C;\n",
              "      box-shadow: 0px 1px 3px 1px rgba(0, 0, 0, 0.15);\n",
              "      filter: drop-shadow(0px 1px 2px rgba(0, 0, 0, 0.3));\n",
              "      fill: #FFFFFF;\n",
              "    }\n",
              "  </style>\n",
              "\n",
              "      <script>\n",
              "        const buttonEl =\n",
              "          document.querySelector('#df-92953eee-0e11-43b3-a6e2-56ff2a3b5210 button.colab-df-convert');\n",
              "        buttonEl.style.display =\n",
              "          google.colab.kernel.accessAllowed ? 'block' : 'none';\n",
              "\n",
              "        async function convertToInteractive(key) {\n",
              "          const element = document.querySelector('#df-92953eee-0e11-43b3-a6e2-56ff2a3b5210');\n",
              "          const dataTable =\n",
              "            await google.colab.kernel.invokeFunction('convertToInteractive',\n",
              "                                                     [key], {});\n",
              "          if (!dataTable) return;\n",
              "\n",
              "          const docLinkHtml = 'Like what you see? Visit the ' +\n",
              "            '<a target=\"_blank\" href=https://colab.research.google.com/notebooks/data_table.ipynb>data table notebook</a>'\n",
              "            + ' to learn more about interactive tables.';\n",
              "          element.innerHTML = '';\n",
              "          dataTable['output_type'] = 'display_data';\n",
              "          await google.colab.output.renderOutput(dataTable, element);\n",
              "          const docLink = document.createElement('div');\n",
              "          docLink.innerHTML = docLinkHtml;\n",
              "          element.appendChild(docLink);\n",
              "        }\n",
              "      </script>\n",
              "    </div>\n",
              "  </div>\n",
              "  "
            ],
            "text/plain": [
              "   id  cycle  setting1  setting2  setting3      s1      s2       s3       s4  \\\n",
              "0   1      1   -0.0007   -0.0004     100.0  518.67  641.82  1589.70  1400.60   \n",
              "1   1      2    0.0019   -0.0003     100.0  518.67  642.15  1591.82  1403.14   \n",
              "2   1      3   -0.0043    0.0003     100.0  518.67  642.35  1587.99  1404.20   \n",
              "3   1      4    0.0007    0.0000     100.0  518.67  642.35  1582.79  1401.87   \n",
              "4   1      5   -0.0019   -0.0002     100.0  518.67  642.37  1582.85  1406.22   \n",
              "\n",
              "      s5  ...      s13      s14     s15   s16  s17   s18    s19    s20  \\\n",
              "0  14.62  ...  2388.02  8138.62  8.4195  0.03  392  2388  100.0  39.06   \n",
              "1  14.62  ...  2388.07  8131.49  8.4318  0.03  392  2388  100.0  39.00   \n",
              "2  14.62  ...  2388.03  8133.23  8.4178  0.03  390  2388  100.0  38.95   \n",
              "3  14.62  ...  2388.08  8133.83  8.3682  0.03  392  2388  100.0  38.88   \n",
              "4  14.62  ...  2388.04  8133.80  8.4294  0.03  393  2388  100.0  38.90   \n",
              "\n",
              "       s21  RUL  \n",
              "0  23.4190  191  \n",
              "1  23.4236  190  \n",
              "2  23.3442  189  \n",
              "3  23.3739  188  \n",
              "4  23.4044  187  \n",
              "\n",
              "[5 rows x 27 columns]"
            ]
          },
          "execution_count": 7,
          "metadata": {},
          "output_type": "execute_result"
        }
      ],
      "source": [
        "# 모든 행에 대해서 잔여수명 레이블 추가\n",
        "rul = pd.DataFrame(train_df.groupby('id')['cycle'].max()).reset_index()\n",
        "rul.columns = ['id', 'max']\n",
        "train_df = train_df.merge(rul, on=['id'], how='left')\n",
        "train_df['RUL'] = train_df['max'] - train_df['cycle']\n",
        "train_df.drop('max', axis=1, inplace=True)\n",
        "train_df.head()"
      ]
    },
    {
      "cell_type": "markdown",
      "metadata": {
        "id": "dB_uy9oH_t6a"
      },
      "source": [
        "- 각 행별로 잔여 수명 (RUL)은, 각 엔진별 rul 테이블의 수명에서 현재 시각인 cycle 값을 뺀 값이다\n",
        "- rul 데이터프레임에서 수명을 나타내는 cycle 컬럼 이름을 max라고 바꾸겠다\n",
        "- 잔여 수명을 나타내는 'RUL' 컬럼을 추가한다"
      ]
    },
    {
      "cell_type": "code",
      "execution_count": null,
      "metadata": {
        "colab": {
          "base_uri": "https://localhost:8080/",
          "height": 424
        },
        "id": "rqs31k1E_pJe",
        "outputId": "510bf8d5-f299-41b6-8a6a-912db4826047"
      },
      "outputs": [
        {
          "data": {
            "text/html": [
              "\n",
              "  <div id=\"df-e8353bf2-31d2-4059-8a5e-d27343d2c447\">\n",
              "    <div class=\"colab-df-container\">\n",
              "      <div>\n",
              "<style scoped>\n",
              "    .dataframe tbody tr th:only-of-type {\n",
              "        vertical-align: middle;\n",
              "    }\n",
              "\n",
              "    .dataframe tbody tr th {\n",
              "        vertical-align: top;\n",
              "    }\n",
              "\n",
              "    .dataframe thead th {\n",
              "        text-align: right;\n",
              "    }\n",
              "</style>\n",
              "<table border=\"1\" class=\"dataframe\">\n",
              "  <thead>\n",
              "    <tr style=\"text-align: right;\">\n",
              "      <th></th>\n",
              "      <th>id</th>\n",
              "      <th>max</th>\n",
              "    </tr>\n",
              "  </thead>\n",
              "  <tbody>\n",
              "    <tr>\n",
              "      <th>0</th>\n",
              "      <td>1</td>\n",
              "      <td>192</td>\n",
              "    </tr>\n",
              "    <tr>\n",
              "      <th>1</th>\n",
              "      <td>2</td>\n",
              "      <td>287</td>\n",
              "    </tr>\n",
              "    <tr>\n",
              "      <th>2</th>\n",
              "      <td>3</td>\n",
              "      <td>179</td>\n",
              "    </tr>\n",
              "    <tr>\n",
              "      <th>3</th>\n",
              "      <td>4</td>\n",
              "      <td>189</td>\n",
              "    </tr>\n",
              "    <tr>\n",
              "      <th>4</th>\n",
              "      <td>5</td>\n",
              "      <td>269</td>\n",
              "    </tr>\n",
              "    <tr>\n",
              "      <th>...</th>\n",
              "      <td>...</td>\n",
              "      <td>...</td>\n",
              "    </tr>\n",
              "    <tr>\n",
              "      <th>95</th>\n",
              "      <td>96</td>\n",
              "      <td>336</td>\n",
              "    </tr>\n",
              "    <tr>\n",
              "      <th>96</th>\n",
              "      <td>97</td>\n",
              "      <td>202</td>\n",
              "    </tr>\n",
              "    <tr>\n",
              "      <th>97</th>\n",
              "      <td>98</td>\n",
              "      <td>156</td>\n",
              "    </tr>\n",
              "    <tr>\n",
              "      <th>98</th>\n",
              "      <td>99</td>\n",
              "      <td>185</td>\n",
              "    </tr>\n",
              "    <tr>\n",
              "      <th>99</th>\n",
              "      <td>100</td>\n",
              "      <td>200</td>\n",
              "    </tr>\n",
              "  </tbody>\n",
              "</table>\n",
              "<p>100 rows × 2 columns</p>\n",
              "</div>\n",
              "      <button class=\"colab-df-convert\" onclick=\"convertToInteractive('df-e8353bf2-31d2-4059-8a5e-d27343d2c447')\"\n",
              "              title=\"Convert this dataframe to an interactive table.\"\n",
              "              style=\"display:none;\">\n",
              "        \n",
              "  <svg xmlns=\"http://www.w3.org/2000/svg\" height=\"24px\"viewBox=\"0 0 24 24\"\n",
              "       width=\"24px\">\n",
              "    <path d=\"M0 0h24v24H0V0z\" fill=\"none\"/>\n",
              "    <path d=\"M18.56 5.44l.94 2.06.94-2.06 2.06-.94-2.06-.94-.94-2.06-.94 2.06-2.06.94zm-11 1L8.5 8.5l.94-2.06 2.06-.94-2.06-.94L8.5 2.5l-.94 2.06-2.06.94zm10 10l.94 2.06.94-2.06 2.06-.94-2.06-.94-.94-2.06-.94 2.06-2.06.94z\"/><path d=\"M17.41 7.96l-1.37-1.37c-.4-.4-.92-.59-1.43-.59-.52 0-1.04.2-1.43.59L10.3 9.45l-7.72 7.72c-.78.78-.78 2.05 0 2.83L4 21.41c.39.39.9.59 1.41.59.51 0 1.02-.2 1.41-.59l7.78-7.78 2.81-2.81c.8-.78.8-2.07 0-2.86zM5.41 20L4 18.59l7.72-7.72 1.47 1.35L5.41 20z\"/>\n",
              "  </svg>\n",
              "      </button>\n",
              "      \n",
              "  <style>\n",
              "    .colab-df-container {\n",
              "      display:flex;\n",
              "      flex-wrap:wrap;\n",
              "      gap: 12px;\n",
              "    }\n",
              "\n",
              "    .colab-df-convert {\n",
              "      background-color: #E8F0FE;\n",
              "      border: none;\n",
              "      border-radius: 50%;\n",
              "      cursor: pointer;\n",
              "      display: none;\n",
              "      fill: #1967D2;\n",
              "      height: 32px;\n",
              "      padding: 0 0 0 0;\n",
              "      width: 32px;\n",
              "    }\n",
              "\n",
              "    .colab-df-convert:hover {\n",
              "      background-color: #E2EBFA;\n",
              "      box-shadow: 0px 1px 2px rgba(60, 64, 67, 0.3), 0px 1px 3px 1px rgba(60, 64, 67, 0.15);\n",
              "      fill: #174EA6;\n",
              "    }\n",
              "\n",
              "    [theme=dark] .colab-df-convert {\n",
              "      background-color: #3B4455;\n",
              "      fill: #D2E3FC;\n",
              "    }\n",
              "\n",
              "    [theme=dark] .colab-df-convert:hover {\n",
              "      background-color: #434B5C;\n",
              "      box-shadow: 0px 1px 3px 1px rgba(0, 0, 0, 0.15);\n",
              "      filter: drop-shadow(0px 1px 2px rgba(0, 0, 0, 0.3));\n",
              "      fill: #FFFFFF;\n",
              "    }\n",
              "  </style>\n",
              "\n",
              "      <script>\n",
              "        const buttonEl =\n",
              "          document.querySelector('#df-e8353bf2-31d2-4059-8a5e-d27343d2c447 button.colab-df-convert');\n",
              "        buttonEl.style.display =\n",
              "          google.colab.kernel.accessAllowed ? 'block' : 'none';\n",
              "\n",
              "        async function convertToInteractive(key) {\n",
              "          const element = document.querySelector('#df-e8353bf2-31d2-4059-8a5e-d27343d2c447');\n",
              "          const dataTable =\n",
              "            await google.colab.kernel.invokeFunction('convertToInteractive',\n",
              "                                                     [key], {});\n",
              "          if (!dataTable) return;\n",
              "\n",
              "          const docLinkHtml = 'Like what you see? Visit the ' +\n",
              "            '<a target=\"_blank\" href=https://colab.research.google.com/notebooks/data_table.ipynb>data table notebook</a>'\n",
              "            + ' to learn more about interactive tables.';\n",
              "          element.innerHTML = '';\n",
              "          dataTable['output_type'] = 'display_data';\n",
              "          await google.colab.output.renderOutput(dataTable, element);\n",
              "          const docLink = document.createElement('div');\n",
              "          docLink.innerHTML = docLinkHtml;\n",
              "          element.appendChild(docLink);\n",
              "        }\n",
              "      </script>\n",
              "    </div>\n",
              "  </div>\n",
              "  "
            ],
            "text/plain": [
              "     id  max\n",
              "0     1  192\n",
              "1     2  287\n",
              "2     3  179\n",
              "3     4  189\n",
              "4     5  269\n",
              "..  ...  ...\n",
              "95   96  336\n",
              "96   97  202\n",
              "97   98  156\n",
              "98   99  185\n",
              "99  100  200\n",
              "\n",
              "[100 rows x 2 columns]"
            ]
          },
          "execution_count": 8,
          "metadata": {},
          "output_type": "execute_result"
        }
      ],
      "source": [
        "rul"
      ]
    },
    {
      "cell_type": "markdown",
      "metadata": {
        "id": "n_pgwgVs_1aY"
      },
      "source": [
        "## 분류용 레이블\n",
        "- 이진분류를 위해서, 앞으로 30 사이클 이내에 고장이 날 지를 예측하는 이진 분류용 레이블을 만든다\n",
        " - bnc (binary classifiation)\n",
        "- 다중 분류를 위해서, 앞으로 30 및 15 사이클 이내에 고장이 날 지를 구분하는 다중 분류용 레이블을 만든다\n",
        " - mcc (multi-class classification)"
      ]
    },
    {
      "cell_type": "code",
      "execution_count": null,
      "metadata": {
        "colab": {
          "base_uri": "https://localhost:8080/",
          "height": 300
        },
        "id": "P1awc7lu4jtS",
        "outputId": "ed5e2dfa-f408-4c65-a23f-1ed7aabed776",
        "scrolled": false
      },
      "outputs": [
        {
          "data": {
            "text/html": [
              "\n",
              "  <div id=\"df-c35c35ea-f710-4229-9f4a-8dfc0a64113a\">\n",
              "    <div class=\"colab-df-container\">\n",
              "      <div>\n",
              "<style scoped>\n",
              "    .dataframe tbody tr th:only-of-type {\n",
              "        vertical-align: middle;\n",
              "    }\n",
              "\n",
              "    .dataframe tbody tr th {\n",
              "        vertical-align: top;\n",
              "    }\n",
              "\n",
              "    .dataframe thead th {\n",
              "        text-align: right;\n",
              "    }\n",
              "</style>\n",
              "<table border=\"1\" class=\"dataframe\">\n",
              "  <thead>\n",
              "    <tr style=\"text-align: right;\">\n",
              "      <th></th>\n",
              "      <th>id</th>\n",
              "      <th>cycle</th>\n",
              "      <th>setting1</th>\n",
              "      <th>setting2</th>\n",
              "      <th>setting3</th>\n",
              "      <th>s1</th>\n",
              "      <th>s2</th>\n",
              "      <th>s3</th>\n",
              "      <th>s4</th>\n",
              "      <th>s5</th>\n",
              "      <th>...</th>\n",
              "      <th>s15</th>\n",
              "      <th>s16</th>\n",
              "      <th>s17</th>\n",
              "      <th>s18</th>\n",
              "      <th>s19</th>\n",
              "      <th>s20</th>\n",
              "      <th>s21</th>\n",
              "      <th>RUL</th>\n",
              "      <th>label1</th>\n",
              "      <th>label2</th>\n",
              "    </tr>\n",
              "  </thead>\n",
              "  <tbody>\n",
              "    <tr>\n",
              "      <th>0</th>\n",
              "      <td>1</td>\n",
              "      <td>1</td>\n",
              "      <td>-0.0007</td>\n",
              "      <td>-0.0004</td>\n",
              "      <td>100.0</td>\n",
              "      <td>518.67</td>\n",
              "      <td>641.82</td>\n",
              "      <td>1589.70</td>\n",
              "      <td>1400.60</td>\n",
              "      <td>14.62</td>\n",
              "      <td>...</td>\n",
              "      <td>8.4195</td>\n",
              "      <td>0.03</td>\n",
              "      <td>392</td>\n",
              "      <td>2388</td>\n",
              "      <td>100.0</td>\n",
              "      <td>39.06</td>\n",
              "      <td>23.4190</td>\n",
              "      <td>191</td>\n",
              "      <td>0</td>\n",
              "      <td>0</td>\n",
              "    </tr>\n",
              "    <tr>\n",
              "      <th>1</th>\n",
              "      <td>1</td>\n",
              "      <td>2</td>\n",
              "      <td>0.0019</td>\n",
              "      <td>-0.0003</td>\n",
              "      <td>100.0</td>\n",
              "      <td>518.67</td>\n",
              "      <td>642.15</td>\n",
              "      <td>1591.82</td>\n",
              "      <td>1403.14</td>\n",
              "      <td>14.62</td>\n",
              "      <td>...</td>\n",
              "      <td>8.4318</td>\n",
              "      <td>0.03</td>\n",
              "      <td>392</td>\n",
              "      <td>2388</td>\n",
              "      <td>100.0</td>\n",
              "      <td>39.00</td>\n",
              "      <td>23.4236</td>\n",
              "      <td>190</td>\n",
              "      <td>0</td>\n",
              "      <td>0</td>\n",
              "    </tr>\n",
              "    <tr>\n",
              "      <th>2</th>\n",
              "      <td>1</td>\n",
              "      <td>3</td>\n",
              "      <td>-0.0043</td>\n",
              "      <td>0.0003</td>\n",
              "      <td>100.0</td>\n",
              "      <td>518.67</td>\n",
              "      <td>642.35</td>\n",
              "      <td>1587.99</td>\n",
              "      <td>1404.20</td>\n",
              "      <td>14.62</td>\n",
              "      <td>...</td>\n",
              "      <td>8.4178</td>\n",
              "      <td>0.03</td>\n",
              "      <td>390</td>\n",
              "      <td>2388</td>\n",
              "      <td>100.0</td>\n",
              "      <td>38.95</td>\n",
              "      <td>23.3442</td>\n",
              "      <td>189</td>\n",
              "      <td>0</td>\n",
              "      <td>0</td>\n",
              "    </tr>\n",
              "    <tr>\n",
              "      <th>3</th>\n",
              "      <td>1</td>\n",
              "      <td>4</td>\n",
              "      <td>0.0007</td>\n",
              "      <td>0.0000</td>\n",
              "      <td>100.0</td>\n",
              "      <td>518.67</td>\n",
              "      <td>642.35</td>\n",
              "      <td>1582.79</td>\n",
              "      <td>1401.87</td>\n",
              "      <td>14.62</td>\n",
              "      <td>...</td>\n",
              "      <td>8.3682</td>\n",
              "      <td>0.03</td>\n",
              "      <td>392</td>\n",
              "      <td>2388</td>\n",
              "      <td>100.0</td>\n",
              "      <td>38.88</td>\n",
              "      <td>23.3739</td>\n",
              "      <td>188</td>\n",
              "      <td>0</td>\n",
              "      <td>0</td>\n",
              "    </tr>\n",
              "    <tr>\n",
              "      <th>4</th>\n",
              "      <td>1</td>\n",
              "      <td>5</td>\n",
              "      <td>-0.0019</td>\n",
              "      <td>-0.0002</td>\n",
              "      <td>100.0</td>\n",
              "      <td>518.67</td>\n",
              "      <td>642.37</td>\n",
              "      <td>1582.85</td>\n",
              "      <td>1406.22</td>\n",
              "      <td>14.62</td>\n",
              "      <td>...</td>\n",
              "      <td>8.4294</td>\n",
              "      <td>0.03</td>\n",
              "      <td>393</td>\n",
              "      <td>2388</td>\n",
              "      <td>100.0</td>\n",
              "      <td>38.90</td>\n",
              "      <td>23.4044</td>\n",
              "      <td>187</td>\n",
              "      <td>0</td>\n",
              "      <td>0</td>\n",
              "    </tr>\n",
              "  </tbody>\n",
              "</table>\n",
              "<p>5 rows × 29 columns</p>\n",
              "</div>\n",
              "      <button class=\"colab-df-convert\" onclick=\"convertToInteractive('df-c35c35ea-f710-4229-9f4a-8dfc0a64113a')\"\n",
              "              title=\"Convert this dataframe to an interactive table.\"\n",
              "              style=\"display:none;\">\n",
              "        \n",
              "  <svg xmlns=\"http://www.w3.org/2000/svg\" height=\"24px\"viewBox=\"0 0 24 24\"\n",
              "       width=\"24px\">\n",
              "    <path d=\"M0 0h24v24H0V0z\" fill=\"none\"/>\n",
              "    <path d=\"M18.56 5.44l.94 2.06.94-2.06 2.06-.94-2.06-.94-.94-2.06-.94 2.06-2.06.94zm-11 1L8.5 8.5l.94-2.06 2.06-.94-2.06-.94L8.5 2.5l-.94 2.06-2.06.94zm10 10l.94 2.06.94-2.06 2.06-.94-2.06-.94-.94-2.06-.94 2.06-2.06.94z\"/><path d=\"M17.41 7.96l-1.37-1.37c-.4-.4-.92-.59-1.43-.59-.52 0-1.04.2-1.43.59L10.3 9.45l-7.72 7.72c-.78.78-.78 2.05 0 2.83L4 21.41c.39.39.9.59 1.41.59.51 0 1.02-.2 1.41-.59l7.78-7.78 2.81-2.81c.8-.78.8-2.07 0-2.86zM5.41 20L4 18.59l7.72-7.72 1.47 1.35L5.41 20z\"/>\n",
              "  </svg>\n",
              "      </button>\n",
              "      \n",
              "  <style>\n",
              "    .colab-df-container {\n",
              "      display:flex;\n",
              "      flex-wrap:wrap;\n",
              "      gap: 12px;\n",
              "    }\n",
              "\n",
              "    .colab-df-convert {\n",
              "      background-color: #E8F0FE;\n",
              "      border: none;\n",
              "      border-radius: 50%;\n",
              "      cursor: pointer;\n",
              "      display: none;\n",
              "      fill: #1967D2;\n",
              "      height: 32px;\n",
              "      padding: 0 0 0 0;\n",
              "      width: 32px;\n",
              "    }\n",
              "\n",
              "    .colab-df-convert:hover {\n",
              "      background-color: #E2EBFA;\n",
              "      box-shadow: 0px 1px 2px rgba(60, 64, 67, 0.3), 0px 1px 3px 1px rgba(60, 64, 67, 0.15);\n",
              "      fill: #174EA6;\n",
              "    }\n",
              "\n",
              "    [theme=dark] .colab-df-convert {\n",
              "      background-color: #3B4455;\n",
              "      fill: #D2E3FC;\n",
              "    }\n",
              "\n",
              "    [theme=dark] .colab-df-convert:hover {\n",
              "      background-color: #434B5C;\n",
              "      box-shadow: 0px 1px 3px 1px rgba(0, 0, 0, 0.15);\n",
              "      filter: drop-shadow(0px 1px 2px rgba(0, 0, 0, 0.3));\n",
              "      fill: #FFFFFF;\n",
              "    }\n",
              "  </style>\n",
              "\n",
              "      <script>\n",
              "        const buttonEl =\n",
              "          document.querySelector('#df-c35c35ea-f710-4229-9f4a-8dfc0a64113a button.colab-df-convert');\n",
              "        buttonEl.style.display =\n",
              "          google.colab.kernel.accessAllowed ? 'block' : 'none';\n",
              "\n",
              "        async function convertToInteractive(key) {\n",
              "          const element = document.querySelector('#df-c35c35ea-f710-4229-9f4a-8dfc0a64113a');\n",
              "          const dataTable =\n",
              "            await google.colab.kernel.invokeFunction('convertToInteractive',\n",
              "                                                     [key], {});\n",
              "          if (!dataTable) return;\n",
              "\n",
              "          const docLinkHtml = 'Like what you see? Visit the ' +\n",
              "            '<a target=\"_blank\" href=https://colab.research.google.com/notebooks/data_table.ipynb>data table notebook</a>'\n",
              "            + ' to learn more about interactive tables.';\n",
              "          element.innerHTML = '';\n",
              "          dataTable['output_type'] = 'display_data';\n",
              "          await google.colab.output.renderOutput(dataTable, element);\n",
              "          const docLink = document.createElement('div');\n",
              "          docLink.innerHTML = docLinkHtml;\n",
              "          element.appendChild(docLink);\n",
              "        }\n",
              "      </script>\n",
              "    </div>\n",
              "  </div>\n",
              "  "
            ],
            "text/plain": [
              "   id  cycle  setting1  setting2  setting3      s1      s2       s3       s4  \\\n",
              "0   1      1   -0.0007   -0.0004     100.0  518.67  641.82  1589.70  1400.60   \n",
              "1   1      2    0.0019   -0.0003     100.0  518.67  642.15  1591.82  1403.14   \n",
              "2   1      3   -0.0043    0.0003     100.0  518.67  642.35  1587.99  1404.20   \n",
              "3   1      4    0.0007    0.0000     100.0  518.67  642.35  1582.79  1401.87   \n",
              "4   1      5   -0.0019   -0.0002     100.0  518.67  642.37  1582.85  1406.22   \n",
              "\n",
              "      s5  ...     s15   s16  s17   s18    s19    s20      s21  RUL  label1  \\\n",
              "0  14.62  ...  8.4195  0.03  392  2388  100.0  39.06  23.4190  191       0   \n",
              "1  14.62  ...  8.4318  0.03  392  2388  100.0  39.00  23.4236  190       0   \n",
              "2  14.62  ...  8.4178  0.03  390  2388  100.0  38.95  23.3442  189       0   \n",
              "3  14.62  ...  8.3682  0.03  392  2388  100.0  38.88  23.3739  188       0   \n",
              "4  14.62  ...  8.4294  0.03  393  2388  100.0  38.90  23.4044  187       0   \n",
              "\n",
              "   label2  \n",
              "0       0  \n",
              "1       0  \n",
              "2       0  \n",
              "3       0  \n",
              "4       0  \n",
              "\n",
              "[5 rows x 29 columns]"
            ]
          },
          "execution_count": 9,
          "metadata": {},
          "output_type": "execute_result"
        }
      ],
      "source": [
        "# 이진분류, 삼진 분류를 위한 레이블\n",
        "w1 = 30 # 10 또는 50인 경우와 비교\n",
        "w0 = 15\n",
        "train_df['label1'] = np.where(train_df['RUL'] <= w1, 1, 0 )\n",
        "train_df['label2'] = train_df['label1']\n",
        "train_df.loc[train_df['RUL'] <= w0, 'label2'] = 2\n",
        "train_df.head()"
      ]
    },
    {
      "cell_type": "markdown",
      "metadata": {
        "id": "nuPAuLyP_9NF"
      },
      "source": [
        "## 스케일링\n",
        "- 모든 센서 값의 최소, 최대 값이 0~1 범위를 갖도록 스케일링한다\n",
        "- 스케일링 대상이 아닌 ['id','cycle','ttf','label_bnc','label_mcc'] 컬럼은 제외하기 위해서 difference 함수를 사용한다\n",
        "- cycle 값을 하나 복사하여 스케일링한다 - 이를 사용할지 여부는 나중에 판단한다\n",
        " - 수명에 대한 힌트를 미리 주는 셈이다!\n"
      ]
    },
    {
      "cell_type": "code",
      "execution_count": null,
      "metadata": {
        "colab": {
          "base_uri": "https://localhost:8080/",
          "height": 300
        },
        "id": "nREsgB_J4jtS",
        "outputId": "f9c18862-109e-47ff-d068-4d509561e3da"
      },
      "outputs": [
        {
          "data": {
            "text/html": [
              "\n",
              "  <div id=\"df-2bb47f71-8266-42a9-976e-e857bd988324\">\n",
              "    <div class=\"colab-df-container\">\n",
              "      <div>\n",
              "<style scoped>\n",
              "    .dataframe tbody tr th:only-of-type {\n",
              "        vertical-align: middle;\n",
              "    }\n",
              "\n",
              "    .dataframe tbody tr th {\n",
              "        vertical-align: top;\n",
              "    }\n",
              "\n",
              "    .dataframe thead th {\n",
              "        text-align: right;\n",
              "    }\n",
              "</style>\n",
              "<table border=\"1\" class=\"dataframe\">\n",
              "  <thead>\n",
              "    <tr style=\"text-align: right;\">\n",
              "      <th></th>\n",
              "      <th>id</th>\n",
              "      <th>cycle</th>\n",
              "      <th>setting1</th>\n",
              "      <th>setting2</th>\n",
              "      <th>setting3</th>\n",
              "      <th>s1</th>\n",
              "      <th>s2</th>\n",
              "      <th>s3</th>\n",
              "      <th>s4</th>\n",
              "      <th>s5</th>\n",
              "      <th>...</th>\n",
              "      <th>s15</th>\n",
              "      <th>s16</th>\n",
              "      <th>s17</th>\n",
              "      <th>s18</th>\n",
              "      <th>s19</th>\n",
              "      <th>s20</th>\n",
              "      <th>s21</th>\n",
              "      <th>RUL</th>\n",
              "      <th>label1</th>\n",
              "      <th>label2</th>\n",
              "    </tr>\n",
              "  </thead>\n",
              "  <tbody>\n",
              "    <tr>\n",
              "      <th>0</th>\n",
              "      <td>1</td>\n",
              "      <td>1</td>\n",
              "      <td>0.459770</td>\n",
              "      <td>0.166667</td>\n",
              "      <td>0.0</td>\n",
              "      <td>0.0</td>\n",
              "      <td>0.183735</td>\n",
              "      <td>0.406802</td>\n",
              "      <td>0.309757</td>\n",
              "      <td>0.0</td>\n",
              "      <td>...</td>\n",
              "      <td>0.363986</td>\n",
              "      <td>0.0</td>\n",
              "      <td>0.333333</td>\n",
              "      <td>0.0</td>\n",
              "      <td>0.0</td>\n",
              "      <td>0.713178</td>\n",
              "      <td>0.724662</td>\n",
              "      <td>191</td>\n",
              "      <td>0</td>\n",
              "      <td>0</td>\n",
              "    </tr>\n",
              "    <tr>\n",
              "      <th>1</th>\n",
              "      <td>1</td>\n",
              "      <td>2</td>\n",
              "      <td>0.609195</td>\n",
              "      <td>0.250000</td>\n",
              "      <td>0.0</td>\n",
              "      <td>0.0</td>\n",
              "      <td>0.283133</td>\n",
              "      <td>0.453019</td>\n",
              "      <td>0.352633</td>\n",
              "      <td>0.0</td>\n",
              "      <td>...</td>\n",
              "      <td>0.411312</td>\n",
              "      <td>0.0</td>\n",
              "      <td>0.333333</td>\n",
              "      <td>0.0</td>\n",
              "      <td>0.0</td>\n",
              "      <td>0.666667</td>\n",
              "      <td>0.731014</td>\n",
              "      <td>190</td>\n",
              "      <td>0</td>\n",
              "      <td>0</td>\n",
              "    </tr>\n",
              "    <tr>\n",
              "      <th>2</th>\n",
              "      <td>1</td>\n",
              "      <td>3</td>\n",
              "      <td>0.252874</td>\n",
              "      <td>0.750000</td>\n",
              "      <td>0.0</td>\n",
              "      <td>0.0</td>\n",
              "      <td>0.343373</td>\n",
              "      <td>0.369523</td>\n",
              "      <td>0.370527</td>\n",
              "      <td>0.0</td>\n",
              "      <td>...</td>\n",
              "      <td>0.357445</td>\n",
              "      <td>0.0</td>\n",
              "      <td>0.166667</td>\n",
              "      <td>0.0</td>\n",
              "      <td>0.0</td>\n",
              "      <td>0.627907</td>\n",
              "      <td>0.621375</td>\n",
              "      <td>189</td>\n",
              "      <td>0</td>\n",
              "      <td>0</td>\n",
              "    </tr>\n",
              "    <tr>\n",
              "      <th>3</th>\n",
              "      <td>1</td>\n",
              "      <td>4</td>\n",
              "      <td>0.540230</td>\n",
              "      <td>0.500000</td>\n",
              "      <td>0.0</td>\n",
              "      <td>0.0</td>\n",
              "      <td>0.343373</td>\n",
              "      <td>0.256159</td>\n",
              "      <td>0.331195</td>\n",
              "      <td>0.0</td>\n",
              "      <td>...</td>\n",
              "      <td>0.166603</td>\n",
              "      <td>0.0</td>\n",
              "      <td>0.333333</td>\n",
              "      <td>0.0</td>\n",
              "      <td>0.0</td>\n",
              "      <td>0.573643</td>\n",
              "      <td>0.662386</td>\n",
              "      <td>188</td>\n",
              "      <td>0</td>\n",
              "      <td>0</td>\n",
              "    </tr>\n",
              "    <tr>\n",
              "      <th>4</th>\n",
              "      <td>1</td>\n",
              "      <td>5</td>\n",
              "      <td>0.390805</td>\n",
              "      <td>0.333333</td>\n",
              "      <td>0.0</td>\n",
              "      <td>0.0</td>\n",
              "      <td>0.349398</td>\n",
              "      <td>0.257467</td>\n",
              "      <td>0.404625</td>\n",
              "      <td>0.0</td>\n",
              "      <td>...</td>\n",
              "      <td>0.402078</td>\n",
              "      <td>0.0</td>\n",
              "      <td>0.416667</td>\n",
              "      <td>0.0</td>\n",
              "      <td>0.0</td>\n",
              "      <td>0.589147</td>\n",
              "      <td>0.704502</td>\n",
              "      <td>187</td>\n",
              "      <td>0</td>\n",
              "      <td>0</td>\n",
              "    </tr>\n",
              "  </tbody>\n",
              "</table>\n",
              "<p>5 rows × 29 columns</p>\n",
              "</div>\n",
              "      <button class=\"colab-df-convert\" onclick=\"convertToInteractive('df-2bb47f71-8266-42a9-976e-e857bd988324')\"\n",
              "              title=\"Convert this dataframe to an interactive table.\"\n",
              "              style=\"display:none;\">\n",
              "        \n",
              "  <svg xmlns=\"http://www.w3.org/2000/svg\" height=\"24px\"viewBox=\"0 0 24 24\"\n",
              "       width=\"24px\">\n",
              "    <path d=\"M0 0h24v24H0V0z\" fill=\"none\"/>\n",
              "    <path d=\"M18.56 5.44l.94 2.06.94-2.06 2.06-.94-2.06-.94-.94-2.06-.94 2.06-2.06.94zm-11 1L8.5 8.5l.94-2.06 2.06-.94-2.06-.94L8.5 2.5l-.94 2.06-2.06.94zm10 10l.94 2.06.94-2.06 2.06-.94-2.06-.94-.94-2.06-.94 2.06-2.06.94z\"/><path d=\"M17.41 7.96l-1.37-1.37c-.4-.4-.92-.59-1.43-.59-.52 0-1.04.2-1.43.59L10.3 9.45l-7.72 7.72c-.78.78-.78 2.05 0 2.83L4 21.41c.39.39.9.59 1.41.59.51 0 1.02-.2 1.41-.59l7.78-7.78 2.81-2.81c.8-.78.8-2.07 0-2.86zM5.41 20L4 18.59l7.72-7.72 1.47 1.35L5.41 20z\"/>\n",
              "  </svg>\n",
              "      </button>\n",
              "      \n",
              "  <style>\n",
              "    .colab-df-container {\n",
              "      display:flex;\n",
              "      flex-wrap:wrap;\n",
              "      gap: 12px;\n",
              "    }\n",
              "\n",
              "    .colab-df-convert {\n",
              "      background-color: #E8F0FE;\n",
              "      border: none;\n",
              "      border-radius: 50%;\n",
              "      cursor: pointer;\n",
              "      display: none;\n",
              "      fill: #1967D2;\n",
              "      height: 32px;\n",
              "      padding: 0 0 0 0;\n",
              "      width: 32px;\n",
              "    }\n",
              "\n",
              "    .colab-df-convert:hover {\n",
              "      background-color: #E2EBFA;\n",
              "      box-shadow: 0px 1px 2px rgba(60, 64, 67, 0.3), 0px 1px 3px 1px rgba(60, 64, 67, 0.15);\n",
              "      fill: #174EA6;\n",
              "    }\n",
              "\n",
              "    [theme=dark] .colab-df-convert {\n",
              "      background-color: #3B4455;\n",
              "      fill: #D2E3FC;\n",
              "    }\n",
              "\n",
              "    [theme=dark] .colab-df-convert:hover {\n",
              "      background-color: #434B5C;\n",
              "      box-shadow: 0px 1px 3px 1px rgba(0, 0, 0, 0.15);\n",
              "      filter: drop-shadow(0px 1px 2px rgba(0, 0, 0, 0.3));\n",
              "      fill: #FFFFFF;\n",
              "    }\n",
              "  </style>\n",
              "\n",
              "      <script>\n",
              "        const buttonEl =\n",
              "          document.querySelector('#df-2bb47f71-8266-42a9-976e-e857bd988324 button.colab-df-convert');\n",
              "        buttonEl.style.display =\n",
              "          google.colab.kernel.accessAllowed ? 'block' : 'none';\n",
              "\n",
              "        async function convertToInteractive(key) {\n",
              "          const element = document.querySelector('#df-2bb47f71-8266-42a9-976e-e857bd988324');\n",
              "          const dataTable =\n",
              "            await google.colab.kernel.invokeFunction('convertToInteractive',\n",
              "                                                     [key], {});\n",
              "          if (!dataTable) return;\n",
              "\n",
              "          const docLinkHtml = 'Like what you see? Visit the ' +\n",
              "            '<a target=\"_blank\" href=https://colab.research.google.com/notebooks/data_table.ipynb>data table notebook</a>'\n",
              "            + ' to learn more about interactive tables.';\n",
              "          element.innerHTML = '';\n",
              "          dataTable['output_type'] = 'display_data';\n",
              "          await google.colab.output.renderOutput(dataTable, element);\n",
              "          const docLink = document.createElement('div');\n",
              "          docLink.innerHTML = docLinkHtml;\n",
              "          element.appendChild(docLink);\n",
              "        }\n",
              "      </script>\n",
              "    </div>\n",
              "  </div>\n",
              "  "
            ],
            "text/plain": [
              "   id  cycle  setting1  setting2  setting3   s1        s2        s3        s4  \\\n",
              "0   1      1  0.459770  0.166667       0.0  0.0  0.183735  0.406802  0.309757   \n",
              "1   1      2  0.609195  0.250000       0.0  0.0  0.283133  0.453019  0.352633   \n",
              "2   1      3  0.252874  0.750000       0.0  0.0  0.343373  0.369523  0.370527   \n",
              "3   1      4  0.540230  0.500000       0.0  0.0  0.343373  0.256159  0.331195   \n",
              "4   1      5  0.390805  0.333333       0.0  0.0  0.349398  0.257467  0.404625   \n",
              "\n",
              "    s5  ...       s15  s16       s17  s18  s19       s20       s21  RUL  \\\n",
              "0  0.0  ...  0.363986  0.0  0.333333  0.0  0.0  0.713178  0.724662  191   \n",
              "1  0.0  ...  0.411312  0.0  0.333333  0.0  0.0  0.666667  0.731014  190   \n",
              "2  0.0  ...  0.357445  0.0  0.166667  0.0  0.0  0.627907  0.621375  189   \n",
              "3  0.0  ...  0.166603  0.0  0.333333  0.0  0.0  0.573643  0.662386  188   \n",
              "4  0.0  ...  0.402078  0.0  0.416667  0.0  0.0  0.589147  0.704502  187   \n",
              "\n",
              "   label1  label2  \n",
              "0       0       0  \n",
              "1       0       0  \n",
              "2       0       0  \n",
              "3       0       0  \n",
              "4       0       0  \n",
              "\n",
              "[5 rows x 29 columns]"
            ]
          },
          "execution_count": 10,
          "metadata": {},
          "output_type": "execute_result"
        }
      ],
      "source": [
        "# MinMax normalization\n",
        "# train_df['cycle_norm'] = train_df['cycle']\n",
        "cols_normalize = train_df.columns.difference(['id','cycle','RUL','label1','label2'])\n",
        "min_max_scaler = MinMaxScaler()\n",
        "norm_train_df = pd.DataFrame(min_max_scaler.fit_transform(train_df[cols_normalize]),\n",
        "                             columns=cols_normalize,\n",
        "                             index=train_df.index)\n",
        "join_df = train_df[train_df.columns.difference(cols_normalize)].join(norm_train_df)\n",
        "train_df = join_df.reindex(columns = train_df.columns)\n",
        "train_df.head()"
      ]
    },
    {
      "cell_type": "markdown",
      "metadata": {
        "id": "Wcc-M5Fy4jtT"
      },
      "source": [
        "## 테스트 데이터 전처리\n",
        "- 훈련 데이터와 반드시 동일한 전처리를 해야 한다\n",
        "- (주의) 훈련 데이터에서 사용한 스케일러를 사용한다\n",
        " - min_max_scaler.transform()를 사용해야 함"
      ]
    },
    {
      "cell_type": "code",
      "execution_count": null,
      "metadata": {
        "colab": {
          "base_uri": "https://localhost:8080/",
          "height": 300
        },
        "id": "GqIMsANz4jtT",
        "outputId": "19f6eda3-fccd-4d7e-da41-b45aee0c2bf9"
      },
      "outputs": [
        {
          "data": {
            "text/html": [
              "\n",
              "  <div id=\"df-3c725f49-5bc0-4693-a7ef-3e783f128995\">\n",
              "    <div class=\"colab-df-container\">\n",
              "      <div>\n",
              "<style scoped>\n",
              "    .dataframe tbody tr th:only-of-type {\n",
              "        vertical-align: middle;\n",
              "    }\n",
              "\n",
              "    .dataframe tbody tr th {\n",
              "        vertical-align: top;\n",
              "    }\n",
              "\n",
              "    .dataframe thead th {\n",
              "        text-align: right;\n",
              "    }\n",
              "</style>\n",
              "<table border=\"1\" class=\"dataframe\">\n",
              "  <thead>\n",
              "    <tr style=\"text-align: right;\">\n",
              "      <th></th>\n",
              "      <th>id</th>\n",
              "      <th>cycle</th>\n",
              "      <th>setting1</th>\n",
              "      <th>setting2</th>\n",
              "      <th>setting3</th>\n",
              "      <th>s1</th>\n",
              "      <th>s2</th>\n",
              "      <th>s3</th>\n",
              "      <th>s4</th>\n",
              "      <th>s5</th>\n",
              "      <th>...</th>\n",
              "      <th>s12</th>\n",
              "      <th>s13</th>\n",
              "      <th>s14</th>\n",
              "      <th>s15</th>\n",
              "      <th>s16</th>\n",
              "      <th>s17</th>\n",
              "      <th>s18</th>\n",
              "      <th>s19</th>\n",
              "      <th>s20</th>\n",
              "      <th>s21</th>\n",
              "    </tr>\n",
              "  </thead>\n",
              "  <tbody>\n",
              "    <tr>\n",
              "      <th>0</th>\n",
              "      <td>1</td>\n",
              "      <td>1</td>\n",
              "      <td>0.632184</td>\n",
              "      <td>0.750000</td>\n",
              "      <td>0.0</td>\n",
              "      <td>0.0</td>\n",
              "      <td>0.545181</td>\n",
              "      <td>0.310661</td>\n",
              "      <td>0.269413</td>\n",
              "      <td>0.0</td>\n",
              "      <td>...</td>\n",
              "      <td>0.646055</td>\n",
              "      <td>0.220588</td>\n",
              "      <td>0.132160</td>\n",
              "      <td>0.308965</td>\n",
              "      <td>0.0</td>\n",
              "      <td>0.333333</td>\n",
              "      <td>0.0</td>\n",
              "      <td>0.0</td>\n",
              "      <td>0.558140</td>\n",
              "      <td>0.661834</td>\n",
              "    </tr>\n",
              "    <tr>\n",
              "      <th>1</th>\n",
              "      <td>1</td>\n",
              "      <td>2</td>\n",
              "      <td>0.344828</td>\n",
              "      <td>0.250000</td>\n",
              "      <td>0.0</td>\n",
              "      <td>0.0</td>\n",
              "      <td>0.150602</td>\n",
              "      <td>0.379551</td>\n",
              "      <td>0.222316</td>\n",
              "      <td>0.0</td>\n",
              "      <td>...</td>\n",
              "      <td>0.739872</td>\n",
              "      <td>0.264706</td>\n",
              "      <td>0.204768</td>\n",
              "      <td>0.213159</td>\n",
              "      <td>0.0</td>\n",
              "      <td>0.416667</td>\n",
              "      <td>0.0</td>\n",
              "      <td>0.0</td>\n",
              "      <td>0.682171</td>\n",
              "      <td>0.686827</td>\n",
              "    </tr>\n",
              "    <tr>\n",
              "      <th>2</th>\n",
              "      <td>1</td>\n",
              "      <td>3</td>\n",
              "      <td>0.517241</td>\n",
              "      <td>0.583333</td>\n",
              "      <td>0.0</td>\n",
              "      <td>0.0</td>\n",
              "      <td>0.376506</td>\n",
              "      <td>0.346632</td>\n",
              "      <td>0.322248</td>\n",
              "      <td>0.0</td>\n",
              "      <td>...</td>\n",
              "      <td>0.699360</td>\n",
              "      <td>0.220588</td>\n",
              "      <td>0.155640</td>\n",
              "      <td>0.458638</td>\n",
              "      <td>0.0</td>\n",
              "      <td>0.416667</td>\n",
              "      <td>0.0</td>\n",
              "      <td>0.0</td>\n",
              "      <td>0.728682</td>\n",
              "      <td>0.721348</td>\n",
              "    </tr>\n",
              "    <tr>\n",
              "      <th>3</th>\n",
              "      <td>1</td>\n",
              "      <td>4</td>\n",
              "      <td>0.741379</td>\n",
              "      <td>0.500000</td>\n",
              "      <td>0.0</td>\n",
              "      <td>0.0</td>\n",
              "      <td>0.370482</td>\n",
              "      <td>0.285154</td>\n",
              "      <td>0.408001</td>\n",
              "      <td>0.0</td>\n",
              "      <td>...</td>\n",
              "      <td>0.573561</td>\n",
              "      <td>0.250000</td>\n",
              "      <td>0.170090</td>\n",
              "      <td>0.257022</td>\n",
              "      <td>0.0</td>\n",
              "      <td>0.250000</td>\n",
              "      <td>0.0</td>\n",
              "      <td>0.0</td>\n",
              "      <td>0.666667</td>\n",
              "      <td>0.662110</td>\n",
              "    </tr>\n",
              "    <tr>\n",
              "      <th>4</th>\n",
              "      <td>1</td>\n",
              "      <td>5</td>\n",
              "      <td>0.580460</td>\n",
              "      <td>0.500000</td>\n",
              "      <td>0.0</td>\n",
              "      <td>0.0</td>\n",
              "      <td>0.391566</td>\n",
              "      <td>0.352082</td>\n",
              "      <td>0.332039</td>\n",
              "      <td>0.0</td>\n",
              "      <td>...</td>\n",
              "      <td>0.737740</td>\n",
              "      <td>0.220588</td>\n",
              "      <td>0.152751</td>\n",
              "      <td>0.300885</td>\n",
              "      <td>0.0</td>\n",
              "      <td>0.166667</td>\n",
              "      <td>0.0</td>\n",
              "      <td>0.0</td>\n",
              "      <td>0.658915</td>\n",
              "      <td>0.716377</td>\n",
              "    </tr>\n",
              "  </tbody>\n",
              "</table>\n",
              "<p>5 rows × 26 columns</p>\n",
              "</div>\n",
              "      <button class=\"colab-df-convert\" onclick=\"convertToInteractive('df-3c725f49-5bc0-4693-a7ef-3e783f128995')\"\n",
              "              title=\"Convert this dataframe to an interactive table.\"\n",
              "              style=\"display:none;\">\n",
              "        \n",
              "  <svg xmlns=\"http://www.w3.org/2000/svg\" height=\"24px\"viewBox=\"0 0 24 24\"\n",
              "       width=\"24px\">\n",
              "    <path d=\"M0 0h24v24H0V0z\" fill=\"none\"/>\n",
              "    <path d=\"M18.56 5.44l.94 2.06.94-2.06 2.06-.94-2.06-.94-.94-2.06-.94 2.06-2.06.94zm-11 1L8.5 8.5l.94-2.06 2.06-.94-2.06-.94L8.5 2.5l-.94 2.06-2.06.94zm10 10l.94 2.06.94-2.06 2.06-.94-2.06-.94-.94-2.06-.94 2.06-2.06.94z\"/><path d=\"M17.41 7.96l-1.37-1.37c-.4-.4-.92-.59-1.43-.59-.52 0-1.04.2-1.43.59L10.3 9.45l-7.72 7.72c-.78.78-.78 2.05 0 2.83L4 21.41c.39.39.9.59 1.41.59.51 0 1.02-.2 1.41-.59l7.78-7.78 2.81-2.81c.8-.78.8-2.07 0-2.86zM5.41 20L4 18.59l7.72-7.72 1.47 1.35L5.41 20z\"/>\n",
              "  </svg>\n",
              "      </button>\n",
              "      \n",
              "  <style>\n",
              "    .colab-df-container {\n",
              "      display:flex;\n",
              "      flex-wrap:wrap;\n",
              "      gap: 12px;\n",
              "    }\n",
              "\n",
              "    .colab-df-convert {\n",
              "      background-color: #E8F0FE;\n",
              "      border: none;\n",
              "      border-radius: 50%;\n",
              "      cursor: pointer;\n",
              "      display: none;\n",
              "      fill: #1967D2;\n",
              "      height: 32px;\n",
              "      padding: 0 0 0 0;\n",
              "      width: 32px;\n",
              "    }\n",
              "\n",
              "    .colab-df-convert:hover {\n",
              "      background-color: #E2EBFA;\n",
              "      box-shadow: 0px 1px 2px rgba(60, 64, 67, 0.3), 0px 1px 3px 1px rgba(60, 64, 67, 0.15);\n",
              "      fill: #174EA6;\n",
              "    }\n",
              "\n",
              "    [theme=dark] .colab-df-convert {\n",
              "      background-color: #3B4455;\n",
              "      fill: #D2E3FC;\n",
              "    }\n",
              "\n",
              "    [theme=dark] .colab-df-convert:hover {\n",
              "      background-color: #434B5C;\n",
              "      box-shadow: 0px 1px 3px 1px rgba(0, 0, 0, 0.15);\n",
              "      filter: drop-shadow(0px 1px 2px rgba(0, 0, 0, 0.3));\n",
              "      fill: #FFFFFF;\n",
              "    }\n",
              "  </style>\n",
              "\n",
              "      <script>\n",
              "        const buttonEl =\n",
              "          document.querySelector('#df-3c725f49-5bc0-4693-a7ef-3e783f128995 button.colab-df-convert');\n",
              "        buttonEl.style.display =\n",
              "          google.colab.kernel.accessAllowed ? 'block' : 'none';\n",
              "\n",
              "        async function convertToInteractive(key) {\n",
              "          const element = document.querySelector('#df-3c725f49-5bc0-4693-a7ef-3e783f128995');\n",
              "          const dataTable =\n",
              "            await google.colab.kernel.invokeFunction('convertToInteractive',\n",
              "                                                     [key], {});\n",
              "          if (!dataTable) return;\n",
              "\n",
              "          const docLinkHtml = 'Like what you see? Visit the ' +\n",
              "            '<a target=\"_blank\" href=https://colab.research.google.com/notebooks/data_table.ipynb>data table notebook</a>'\n",
              "            + ' to learn more about interactive tables.';\n",
              "          element.innerHTML = '';\n",
              "          dataTable['output_type'] = 'display_data';\n",
              "          await google.colab.output.renderOutput(dataTable, element);\n",
              "          const docLink = document.createElement('div');\n",
              "          docLink.innerHTML = docLinkHtml;\n",
              "          element.appendChild(docLink);\n",
              "        }\n",
              "      </script>\n",
              "    </div>\n",
              "  </div>\n",
              "  "
            ],
            "text/plain": [
              "   id  cycle  setting1  setting2  setting3   s1        s2        s3        s4  \\\n",
              "0   1      1  0.632184  0.750000       0.0  0.0  0.545181  0.310661  0.269413   \n",
              "1   1      2  0.344828  0.250000       0.0  0.0  0.150602  0.379551  0.222316   \n",
              "2   1      3  0.517241  0.583333       0.0  0.0  0.376506  0.346632  0.322248   \n",
              "3   1      4  0.741379  0.500000       0.0  0.0  0.370482  0.285154  0.408001   \n",
              "4   1      5  0.580460  0.500000       0.0  0.0  0.391566  0.352082  0.332039   \n",
              "\n",
              "    s5  ...       s12       s13       s14       s15  s16       s17  s18  s19  \\\n",
              "0  0.0  ...  0.646055  0.220588  0.132160  0.308965  0.0  0.333333  0.0  0.0   \n",
              "1  0.0  ...  0.739872  0.264706  0.204768  0.213159  0.0  0.416667  0.0  0.0   \n",
              "2  0.0  ...  0.699360  0.220588  0.155640  0.458638  0.0  0.416667  0.0  0.0   \n",
              "3  0.0  ...  0.573561  0.250000  0.170090  0.257022  0.0  0.250000  0.0  0.0   \n",
              "4  0.0  ...  0.737740  0.220588  0.152751  0.300885  0.0  0.166667  0.0  0.0   \n",
              "\n",
              "        s20       s21  \n",
              "0  0.558140  0.661834  \n",
              "1  0.682171  0.686827  \n",
              "2  0.728682  0.721348  \n",
              "3  0.666667  0.662110  \n",
              "4  0.658915  0.716377  \n",
              "\n",
              "[5 rows x 26 columns]"
            ]
          },
          "execution_count": 11,
          "metadata": {},
          "output_type": "execute_result"
        }
      ],
      "source": [
        "# test_df['cycle_norm'] = test_df['cycle']\n",
        "norm_test_df = pd.DataFrame(min_max_scaler.transform(test_df[cols_normalize]),\n",
        "                            columns=cols_normalize,\n",
        "                            index=test_df.index)\n",
        "test_join_df = test_df[test_df.columns.difference(cols_normalize)].join(norm_test_df)\n",
        "test_df = test_join_df.reindex(columns = test_df.columns)\n",
        "test_df = test_df.reset_index(drop=True)\n",
        "test_df.head()"
      ]
    },
    {
      "cell_type": "markdown",
      "metadata": {
        "id": "fgN6xJ6c4jtT"
      },
      "source": [
        "- 정답 데이터를 테스트 데이터에 추가하기 위해서 truth 정보를 이용한다"
      ]
    },
    {
      "cell_type": "code",
      "execution_count": null,
      "metadata": {
        "collapsed": true,
        "id": "Xi3e5FV14jtT"
      },
      "outputs": [],
      "source": [
        "# 테스트 데이터에 정답 잔여 수명 컬럼을 추가한다\n",
        "rul = pd.DataFrame(test_df.groupby('id')['cycle'].max()).reset_index()\n",
        "rul.columns = ['id', 'max']\n",
        "truth_df.columns = ['more']\n",
        "truth_df['id'] = truth_df.index + 1\n",
        "truth_df['max'] = rul['max'] + truth_df['more']\n",
        "truth_df.drop('more', axis=1, inplace=True)"
      ]
    },
    {
      "cell_type": "code",
      "execution_count": null,
      "metadata": {
        "colab": {
          "base_uri": "https://localhost:8080/",
          "height": 300
        },
        "id": "lDZrgTzl4jtT",
        "outputId": "0beb9447-e408-4e02-b87a-0e5df11b58be"
      },
      "outputs": [
        {
          "data": {
            "text/html": [
              "\n",
              "  <div id=\"df-dbcbf20c-6aa3-42bf-8d77-ff01783170b6\">\n",
              "    <div class=\"colab-df-container\">\n",
              "      <div>\n",
              "<style scoped>\n",
              "    .dataframe tbody tr th:only-of-type {\n",
              "        vertical-align: middle;\n",
              "    }\n",
              "\n",
              "    .dataframe tbody tr th {\n",
              "        vertical-align: top;\n",
              "    }\n",
              "\n",
              "    .dataframe thead th {\n",
              "        text-align: right;\n",
              "    }\n",
              "</style>\n",
              "<table border=\"1\" class=\"dataframe\">\n",
              "  <thead>\n",
              "    <tr style=\"text-align: right;\">\n",
              "      <th></th>\n",
              "      <th>id</th>\n",
              "      <th>cycle</th>\n",
              "      <th>setting1</th>\n",
              "      <th>setting2</th>\n",
              "      <th>setting3</th>\n",
              "      <th>s1</th>\n",
              "      <th>s2</th>\n",
              "      <th>s3</th>\n",
              "      <th>s4</th>\n",
              "      <th>s5</th>\n",
              "      <th>...</th>\n",
              "      <th>s13</th>\n",
              "      <th>s14</th>\n",
              "      <th>s15</th>\n",
              "      <th>s16</th>\n",
              "      <th>s17</th>\n",
              "      <th>s18</th>\n",
              "      <th>s19</th>\n",
              "      <th>s20</th>\n",
              "      <th>s21</th>\n",
              "      <th>RUL</th>\n",
              "    </tr>\n",
              "  </thead>\n",
              "  <tbody>\n",
              "    <tr>\n",
              "      <th>0</th>\n",
              "      <td>1</td>\n",
              "      <td>1</td>\n",
              "      <td>0.632184</td>\n",
              "      <td>0.750000</td>\n",
              "      <td>0.0</td>\n",
              "      <td>0.0</td>\n",
              "      <td>0.545181</td>\n",
              "      <td>0.310661</td>\n",
              "      <td>0.269413</td>\n",
              "      <td>0.0</td>\n",
              "      <td>...</td>\n",
              "      <td>0.220588</td>\n",
              "      <td>0.132160</td>\n",
              "      <td>0.308965</td>\n",
              "      <td>0.0</td>\n",
              "      <td>0.333333</td>\n",
              "      <td>0.0</td>\n",
              "      <td>0.0</td>\n",
              "      <td>0.558140</td>\n",
              "      <td>0.661834</td>\n",
              "      <td>142</td>\n",
              "    </tr>\n",
              "    <tr>\n",
              "      <th>1</th>\n",
              "      <td>1</td>\n",
              "      <td>2</td>\n",
              "      <td>0.344828</td>\n",
              "      <td>0.250000</td>\n",
              "      <td>0.0</td>\n",
              "      <td>0.0</td>\n",
              "      <td>0.150602</td>\n",
              "      <td>0.379551</td>\n",
              "      <td>0.222316</td>\n",
              "      <td>0.0</td>\n",
              "      <td>...</td>\n",
              "      <td>0.264706</td>\n",
              "      <td>0.204768</td>\n",
              "      <td>0.213159</td>\n",
              "      <td>0.0</td>\n",
              "      <td>0.416667</td>\n",
              "      <td>0.0</td>\n",
              "      <td>0.0</td>\n",
              "      <td>0.682171</td>\n",
              "      <td>0.686827</td>\n",
              "      <td>141</td>\n",
              "    </tr>\n",
              "    <tr>\n",
              "      <th>2</th>\n",
              "      <td>1</td>\n",
              "      <td>3</td>\n",
              "      <td>0.517241</td>\n",
              "      <td>0.583333</td>\n",
              "      <td>0.0</td>\n",
              "      <td>0.0</td>\n",
              "      <td>0.376506</td>\n",
              "      <td>0.346632</td>\n",
              "      <td>0.322248</td>\n",
              "      <td>0.0</td>\n",
              "      <td>...</td>\n",
              "      <td>0.220588</td>\n",
              "      <td>0.155640</td>\n",
              "      <td>0.458638</td>\n",
              "      <td>0.0</td>\n",
              "      <td>0.416667</td>\n",
              "      <td>0.0</td>\n",
              "      <td>0.0</td>\n",
              "      <td>0.728682</td>\n",
              "      <td>0.721348</td>\n",
              "      <td>140</td>\n",
              "    </tr>\n",
              "    <tr>\n",
              "      <th>3</th>\n",
              "      <td>1</td>\n",
              "      <td>4</td>\n",
              "      <td>0.741379</td>\n",
              "      <td>0.500000</td>\n",
              "      <td>0.0</td>\n",
              "      <td>0.0</td>\n",
              "      <td>0.370482</td>\n",
              "      <td>0.285154</td>\n",
              "      <td>0.408001</td>\n",
              "      <td>0.0</td>\n",
              "      <td>...</td>\n",
              "      <td>0.250000</td>\n",
              "      <td>0.170090</td>\n",
              "      <td>0.257022</td>\n",
              "      <td>0.0</td>\n",
              "      <td>0.250000</td>\n",
              "      <td>0.0</td>\n",
              "      <td>0.0</td>\n",
              "      <td>0.666667</td>\n",
              "      <td>0.662110</td>\n",
              "      <td>139</td>\n",
              "    </tr>\n",
              "    <tr>\n",
              "      <th>4</th>\n",
              "      <td>1</td>\n",
              "      <td>5</td>\n",
              "      <td>0.580460</td>\n",
              "      <td>0.500000</td>\n",
              "      <td>0.0</td>\n",
              "      <td>0.0</td>\n",
              "      <td>0.391566</td>\n",
              "      <td>0.352082</td>\n",
              "      <td>0.332039</td>\n",
              "      <td>0.0</td>\n",
              "      <td>...</td>\n",
              "      <td>0.220588</td>\n",
              "      <td>0.152751</td>\n",
              "      <td>0.300885</td>\n",
              "      <td>0.0</td>\n",
              "      <td>0.166667</td>\n",
              "      <td>0.0</td>\n",
              "      <td>0.0</td>\n",
              "      <td>0.658915</td>\n",
              "      <td>0.716377</td>\n",
              "      <td>138</td>\n",
              "    </tr>\n",
              "  </tbody>\n",
              "</table>\n",
              "<p>5 rows × 27 columns</p>\n",
              "</div>\n",
              "      <button class=\"colab-df-convert\" onclick=\"convertToInteractive('df-dbcbf20c-6aa3-42bf-8d77-ff01783170b6')\"\n",
              "              title=\"Convert this dataframe to an interactive table.\"\n",
              "              style=\"display:none;\">\n",
              "        \n",
              "  <svg xmlns=\"http://www.w3.org/2000/svg\" height=\"24px\"viewBox=\"0 0 24 24\"\n",
              "       width=\"24px\">\n",
              "    <path d=\"M0 0h24v24H0V0z\" fill=\"none\"/>\n",
              "    <path d=\"M18.56 5.44l.94 2.06.94-2.06 2.06-.94-2.06-.94-.94-2.06-.94 2.06-2.06.94zm-11 1L8.5 8.5l.94-2.06 2.06-.94-2.06-.94L8.5 2.5l-.94 2.06-2.06.94zm10 10l.94 2.06.94-2.06 2.06-.94-2.06-.94-.94-2.06-.94 2.06-2.06.94z\"/><path d=\"M17.41 7.96l-1.37-1.37c-.4-.4-.92-.59-1.43-.59-.52 0-1.04.2-1.43.59L10.3 9.45l-7.72 7.72c-.78.78-.78 2.05 0 2.83L4 21.41c.39.39.9.59 1.41.59.51 0 1.02-.2 1.41-.59l7.78-7.78 2.81-2.81c.8-.78.8-2.07 0-2.86zM5.41 20L4 18.59l7.72-7.72 1.47 1.35L5.41 20z\"/>\n",
              "  </svg>\n",
              "      </button>\n",
              "      \n",
              "  <style>\n",
              "    .colab-df-container {\n",
              "      display:flex;\n",
              "      flex-wrap:wrap;\n",
              "      gap: 12px;\n",
              "    }\n",
              "\n",
              "    .colab-df-convert {\n",
              "      background-color: #E8F0FE;\n",
              "      border: none;\n",
              "      border-radius: 50%;\n",
              "      cursor: pointer;\n",
              "      display: none;\n",
              "      fill: #1967D2;\n",
              "      height: 32px;\n",
              "      padding: 0 0 0 0;\n",
              "      width: 32px;\n",
              "    }\n",
              "\n",
              "    .colab-df-convert:hover {\n",
              "      background-color: #E2EBFA;\n",
              "      box-shadow: 0px 1px 2px rgba(60, 64, 67, 0.3), 0px 1px 3px 1px rgba(60, 64, 67, 0.15);\n",
              "      fill: #174EA6;\n",
              "    }\n",
              "\n",
              "    [theme=dark] .colab-df-convert {\n",
              "      background-color: #3B4455;\n",
              "      fill: #D2E3FC;\n",
              "    }\n",
              "\n",
              "    [theme=dark] .colab-df-convert:hover {\n",
              "      background-color: #434B5C;\n",
              "      box-shadow: 0px 1px 3px 1px rgba(0, 0, 0, 0.15);\n",
              "      filter: drop-shadow(0px 1px 2px rgba(0, 0, 0, 0.3));\n",
              "      fill: #FFFFFF;\n",
              "    }\n",
              "  </style>\n",
              "\n",
              "      <script>\n",
              "        const buttonEl =\n",
              "          document.querySelector('#df-dbcbf20c-6aa3-42bf-8d77-ff01783170b6 button.colab-df-convert');\n",
              "        buttonEl.style.display =\n",
              "          google.colab.kernel.accessAllowed ? 'block' : 'none';\n",
              "\n",
              "        async function convertToInteractive(key) {\n",
              "          const element = document.querySelector('#df-dbcbf20c-6aa3-42bf-8d77-ff01783170b6');\n",
              "          const dataTable =\n",
              "            await google.colab.kernel.invokeFunction('convertToInteractive',\n",
              "                                                     [key], {});\n",
              "          if (!dataTable) return;\n",
              "\n",
              "          const docLinkHtml = 'Like what you see? Visit the ' +\n",
              "            '<a target=\"_blank\" href=https://colab.research.google.com/notebooks/data_table.ipynb>data table notebook</a>'\n",
              "            + ' to learn more about interactive tables.';\n",
              "          element.innerHTML = '';\n",
              "          dataTable['output_type'] = 'display_data';\n",
              "          await google.colab.output.renderOutput(dataTable, element);\n",
              "          const docLink = document.createElement('div');\n",
              "          docLink.innerHTML = docLinkHtml;\n",
              "          element.appendChild(docLink);\n",
              "        }\n",
              "      </script>\n",
              "    </div>\n",
              "  </div>\n",
              "  "
            ],
            "text/plain": [
              "   id  cycle  setting1  setting2  setting3   s1        s2        s3        s4  \\\n",
              "0   1      1  0.632184  0.750000       0.0  0.0  0.545181  0.310661  0.269413   \n",
              "1   1      2  0.344828  0.250000       0.0  0.0  0.150602  0.379551  0.222316   \n",
              "2   1      3  0.517241  0.583333       0.0  0.0  0.376506  0.346632  0.322248   \n",
              "3   1      4  0.741379  0.500000       0.0  0.0  0.370482  0.285154  0.408001   \n",
              "4   1      5  0.580460  0.500000       0.0  0.0  0.391566  0.352082  0.332039   \n",
              "\n",
              "    s5  ...       s13       s14       s15  s16       s17  s18  s19       s20  \\\n",
              "0  0.0  ...  0.220588  0.132160  0.308965  0.0  0.333333  0.0  0.0  0.558140   \n",
              "1  0.0  ...  0.264706  0.204768  0.213159  0.0  0.416667  0.0  0.0  0.682171   \n",
              "2  0.0  ...  0.220588  0.155640  0.458638  0.0  0.416667  0.0  0.0  0.728682   \n",
              "3  0.0  ...  0.250000  0.170090  0.257022  0.0  0.250000  0.0  0.0  0.666667   \n",
              "4  0.0  ...  0.220588  0.152751  0.300885  0.0  0.166667  0.0  0.0  0.658915   \n",
              "\n",
              "        s21  RUL  \n",
              "0  0.661834  142  \n",
              "1  0.686827  141  \n",
              "2  0.721348  140  \n",
              "3  0.662110  139  \n",
              "4  0.716377  138  \n",
              "\n",
              "[5 rows x 27 columns]"
            ]
          },
          "execution_count": 13,
          "metadata": {},
          "output_type": "execute_result"
        }
      ],
      "source": [
        "# 각 행별로 잔여수명을 계산한다\n",
        "test_df = test_df.merge(truth_df, on=['id'], how='left')\n",
        "test_df['RUL'] = test_df['max'] - test_df['cycle']\n",
        "test_df.drop('max', axis=1, inplace=True)\n",
        "test_df.head()"
      ]
    },
    {
      "cell_type": "code",
      "execution_count": null,
      "metadata": {
        "colab": {
          "base_uri": "https://localhost:8080/"
        },
        "id": "9SgZapdMItsH",
        "outputId": "6c123ba8-6e40-458f-a498-991586df84ad"
      },
      "outputs": [
        {
          "data": {
            "text/plain": [
              "(13096, 27)"
            ]
          },
          "execution_count": 14,
          "metadata": {},
          "output_type": "execute_result"
        }
      ],
      "source": [
        "test_df.shape"
      ]
    },
    {
      "cell_type": "code",
      "execution_count": null,
      "metadata": {
        "colab": {
          "base_uri": "https://localhost:8080/",
          "height": 300
        },
        "id": "UH0kd7aO4jtU",
        "outputId": "5498fe33-d76a-489f-8e42-f15f782fcf2f"
      },
      "outputs": [
        {
          "data": {
            "text/html": [
              "\n",
              "  <div id=\"df-1ba3e3aa-3e35-4773-88d4-075dfbb05dec\">\n",
              "    <div class=\"colab-df-container\">\n",
              "      <div>\n",
              "<style scoped>\n",
              "    .dataframe tbody tr th:only-of-type {\n",
              "        vertical-align: middle;\n",
              "    }\n",
              "\n",
              "    .dataframe tbody tr th {\n",
              "        vertical-align: top;\n",
              "    }\n",
              "\n",
              "    .dataframe thead th {\n",
              "        text-align: right;\n",
              "    }\n",
              "</style>\n",
              "<table border=\"1\" class=\"dataframe\">\n",
              "  <thead>\n",
              "    <tr style=\"text-align: right;\">\n",
              "      <th></th>\n",
              "      <th>id</th>\n",
              "      <th>cycle</th>\n",
              "      <th>setting1</th>\n",
              "      <th>setting2</th>\n",
              "      <th>setting3</th>\n",
              "      <th>s1</th>\n",
              "      <th>s2</th>\n",
              "      <th>s3</th>\n",
              "      <th>s4</th>\n",
              "      <th>s5</th>\n",
              "      <th>...</th>\n",
              "      <th>s15</th>\n",
              "      <th>s16</th>\n",
              "      <th>s17</th>\n",
              "      <th>s18</th>\n",
              "      <th>s19</th>\n",
              "      <th>s20</th>\n",
              "      <th>s21</th>\n",
              "      <th>RUL</th>\n",
              "      <th>label1</th>\n",
              "      <th>label2</th>\n",
              "    </tr>\n",
              "  </thead>\n",
              "  <tbody>\n",
              "    <tr>\n",
              "      <th>0</th>\n",
              "      <td>1</td>\n",
              "      <td>1</td>\n",
              "      <td>0.632184</td>\n",
              "      <td>0.750000</td>\n",
              "      <td>0.0</td>\n",
              "      <td>0.0</td>\n",
              "      <td>0.545181</td>\n",
              "      <td>0.310661</td>\n",
              "      <td>0.269413</td>\n",
              "      <td>0.0</td>\n",
              "      <td>...</td>\n",
              "      <td>0.308965</td>\n",
              "      <td>0.0</td>\n",
              "      <td>0.333333</td>\n",
              "      <td>0.0</td>\n",
              "      <td>0.0</td>\n",
              "      <td>0.558140</td>\n",
              "      <td>0.661834</td>\n",
              "      <td>142</td>\n",
              "      <td>0</td>\n",
              "      <td>0</td>\n",
              "    </tr>\n",
              "    <tr>\n",
              "      <th>1</th>\n",
              "      <td>1</td>\n",
              "      <td>2</td>\n",
              "      <td>0.344828</td>\n",
              "      <td>0.250000</td>\n",
              "      <td>0.0</td>\n",
              "      <td>0.0</td>\n",
              "      <td>0.150602</td>\n",
              "      <td>0.379551</td>\n",
              "      <td>0.222316</td>\n",
              "      <td>0.0</td>\n",
              "      <td>...</td>\n",
              "      <td>0.213159</td>\n",
              "      <td>0.0</td>\n",
              "      <td>0.416667</td>\n",
              "      <td>0.0</td>\n",
              "      <td>0.0</td>\n",
              "      <td>0.682171</td>\n",
              "      <td>0.686827</td>\n",
              "      <td>141</td>\n",
              "      <td>0</td>\n",
              "      <td>0</td>\n",
              "    </tr>\n",
              "    <tr>\n",
              "      <th>2</th>\n",
              "      <td>1</td>\n",
              "      <td>3</td>\n",
              "      <td>0.517241</td>\n",
              "      <td>0.583333</td>\n",
              "      <td>0.0</td>\n",
              "      <td>0.0</td>\n",
              "      <td>0.376506</td>\n",
              "      <td>0.346632</td>\n",
              "      <td>0.322248</td>\n",
              "      <td>0.0</td>\n",
              "      <td>...</td>\n",
              "      <td>0.458638</td>\n",
              "      <td>0.0</td>\n",
              "      <td>0.416667</td>\n",
              "      <td>0.0</td>\n",
              "      <td>0.0</td>\n",
              "      <td>0.728682</td>\n",
              "      <td>0.721348</td>\n",
              "      <td>140</td>\n",
              "      <td>0</td>\n",
              "      <td>0</td>\n",
              "    </tr>\n",
              "    <tr>\n",
              "      <th>3</th>\n",
              "      <td>1</td>\n",
              "      <td>4</td>\n",
              "      <td>0.741379</td>\n",
              "      <td>0.500000</td>\n",
              "      <td>0.0</td>\n",
              "      <td>0.0</td>\n",
              "      <td>0.370482</td>\n",
              "      <td>0.285154</td>\n",
              "      <td>0.408001</td>\n",
              "      <td>0.0</td>\n",
              "      <td>...</td>\n",
              "      <td>0.257022</td>\n",
              "      <td>0.0</td>\n",
              "      <td>0.250000</td>\n",
              "      <td>0.0</td>\n",
              "      <td>0.0</td>\n",
              "      <td>0.666667</td>\n",
              "      <td>0.662110</td>\n",
              "      <td>139</td>\n",
              "      <td>0</td>\n",
              "      <td>0</td>\n",
              "    </tr>\n",
              "    <tr>\n",
              "      <th>4</th>\n",
              "      <td>1</td>\n",
              "      <td>5</td>\n",
              "      <td>0.580460</td>\n",
              "      <td>0.500000</td>\n",
              "      <td>0.0</td>\n",
              "      <td>0.0</td>\n",
              "      <td>0.391566</td>\n",
              "      <td>0.352082</td>\n",
              "      <td>0.332039</td>\n",
              "      <td>0.0</td>\n",
              "      <td>...</td>\n",
              "      <td>0.300885</td>\n",
              "      <td>0.0</td>\n",
              "      <td>0.166667</td>\n",
              "      <td>0.0</td>\n",
              "      <td>0.0</td>\n",
              "      <td>0.658915</td>\n",
              "      <td>0.716377</td>\n",
              "      <td>138</td>\n",
              "      <td>0</td>\n",
              "      <td>0</td>\n",
              "    </tr>\n",
              "  </tbody>\n",
              "</table>\n",
              "<p>5 rows × 29 columns</p>\n",
              "</div>\n",
              "      <button class=\"colab-df-convert\" onclick=\"convertToInteractive('df-1ba3e3aa-3e35-4773-88d4-075dfbb05dec')\"\n",
              "              title=\"Convert this dataframe to an interactive table.\"\n",
              "              style=\"display:none;\">\n",
              "        \n",
              "  <svg xmlns=\"http://www.w3.org/2000/svg\" height=\"24px\"viewBox=\"0 0 24 24\"\n",
              "       width=\"24px\">\n",
              "    <path d=\"M0 0h24v24H0V0z\" fill=\"none\"/>\n",
              "    <path d=\"M18.56 5.44l.94 2.06.94-2.06 2.06-.94-2.06-.94-.94-2.06-.94 2.06-2.06.94zm-11 1L8.5 8.5l.94-2.06 2.06-.94-2.06-.94L8.5 2.5l-.94 2.06-2.06.94zm10 10l.94 2.06.94-2.06 2.06-.94-2.06-.94-.94-2.06-.94 2.06-2.06.94z\"/><path d=\"M17.41 7.96l-1.37-1.37c-.4-.4-.92-.59-1.43-.59-.52 0-1.04.2-1.43.59L10.3 9.45l-7.72 7.72c-.78.78-.78 2.05 0 2.83L4 21.41c.39.39.9.59 1.41.59.51 0 1.02-.2 1.41-.59l7.78-7.78 2.81-2.81c.8-.78.8-2.07 0-2.86zM5.41 20L4 18.59l7.72-7.72 1.47 1.35L5.41 20z\"/>\n",
              "  </svg>\n",
              "      </button>\n",
              "      \n",
              "  <style>\n",
              "    .colab-df-container {\n",
              "      display:flex;\n",
              "      flex-wrap:wrap;\n",
              "      gap: 12px;\n",
              "    }\n",
              "\n",
              "    .colab-df-convert {\n",
              "      background-color: #E8F0FE;\n",
              "      border: none;\n",
              "      border-radius: 50%;\n",
              "      cursor: pointer;\n",
              "      display: none;\n",
              "      fill: #1967D2;\n",
              "      height: 32px;\n",
              "      padding: 0 0 0 0;\n",
              "      width: 32px;\n",
              "    }\n",
              "\n",
              "    .colab-df-convert:hover {\n",
              "      background-color: #E2EBFA;\n",
              "      box-shadow: 0px 1px 2px rgba(60, 64, 67, 0.3), 0px 1px 3px 1px rgba(60, 64, 67, 0.15);\n",
              "      fill: #174EA6;\n",
              "    }\n",
              "\n",
              "    [theme=dark] .colab-df-convert {\n",
              "      background-color: #3B4455;\n",
              "      fill: #D2E3FC;\n",
              "    }\n",
              "\n",
              "    [theme=dark] .colab-df-convert:hover {\n",
              "      background-color: #434B5C;\n",
              "      box-shadow: 0px 1px 3px 1px rgba(0, 0, 0, 0.15);\n",
              "      filter: drop-shadow(0px 1px 2px rgba(0, 0, 0, 0.3));\n",
              "      fill: #FFFFFF;\n",
              "    }\n",
              "  </style>\n",
              "\n",
              "      <script>\n",
              "        const buttonEl =\n",
              "          document.querySelector('#df-1ba3e3aa-3e35-4773-88d4-075dfbb05dec button.colab-df-convert');\n",
              "        buttonEl.style.display =\n",
              "          google.colab.kernel.accessAllowed ? 'block' : 'none';\n",
              "\n",
              "        async function convertToInteractive(key) {\n",
              "          const element = document.querySelector('#df-1ba3e3aa-3e35-4773-88d4-075dfbb05dec');\n",
              "          const dataTable =\n",
              "            await google.colab.kernel.invokeFunction('convertToInteractive',\n",
              "                                                     [key], {});\n",
              "          if (!dataTable) return;\n",
              "\n",
              "          const docLinkHtml = 'Like what you see? Visit the ' +\n",
              "            '<a target=\"_blank\" href=https://colab.research.google.com/notebooks/data_table.ipynb>data table notebook</a>'\n",
              "            + ' to learn more about interactive tables.';\n",
              "          element.innerHTML = '';\n",
              "          dataTable['output_type'] = 'display_data';\n",
              "          await google.colab.output.renderOutput(dataTable, element);\n",
              "          const docLink = document.createElement('div');\n",
              "          docLink.innerHTML = docLinkHtml;\n",
              "          element.appendChild(docLink);\n",
              "        }\n",
              "      </script>\n",
              "    </div>\n",
              "  </div>\n",
              "  "
            ],
            "text/plain": [
              "   id  cycle  setting1  setting2  setting3   s1        s2        s3        s4  \\\n",
              "0   1      1  0.632184  0.750000       0.0  0.0  0.545181  0.310661  0.269413   \n",
              "1   1      2  0.344828  0.250000       0.0  0.0  0.150602  0.379551  0.222316   \n",
              "2   1      3  0.517241  0.583333       0.0  0.0  0.376506  0.346632  0.322248   \n",
              "3   1      4  0.741379  0.500000       0.0  0.0  0.370482  0.285154  0.408001   \n",
              "4   1      5  0.580460  0.500000       0.0  0.0  0.391566  0.352082  0.332039   \n",
              "\n",
              "    s5  ...       s15  s16       s17  s18  s19       s20       s21  RUL  \\\n",
              "0  0.0  ...  0.308965  0.0  0.333333  0.0  0.0  0.558140  0.661834  142   \n",
              "1  0.0  ...  0.213159  0.0  0.416667  0.0  0.0  0.682171  0.686827  141   \n",
              "2  0.0  ...  0.458638  0.0  0.416667  0.0  0.0  0.728682  0.721348  140   \n",
              "3  0.0  ...  0.257022  0.0  0.250000  0.0  0.0  0.666667  0.662110  139   \n",
              "4  0.0  ...  0.300885  0.0  0.166667  0.0  0.0  0.658915  0.716377  138   \n",
              "\n",
              "   label1  label2  \n",
              "0       0       0  \n",
              "1       0       0  \n",
              "2       0       0  \n",
              "3       0       0  \n",
              "4       0       0  \n",
              "\n",
              "[5 rows x 29 columns]"
            ]
          },
          "execution_count": 15,
          "metadata": {},
          "output_type": "execute_result"
        }
      ],
      "source": [
        "# 분류를 위한 레이블 추가\n",
        "test_df['label1'] = np.where(test_df['RUL'] <= w1, 1, 0 )\n",
        "test_df['label2'] = test_df['label1']\n",
        "test_df.loc[test_df['RUL'] <= w0, 'label2'] = 2\n",
        "test_df.head()"
      ]
    },
    {
      "cell_type": "markdown",
      "metadata": {
        "id": "ciadAwjZAJ3Q"
      },
      "source": [
        "# 탐색적 분석"
      ]
    },
    {
      "cell_type": "code",
      "execution_count": null,
      "metadata": {
        "colab": {
          "base_uri": "https://localhost:8080/"
        },
        "id": "8dZO2ix7GOa9",
        "outputId": "81fb65dc-be63-4d2e-a1d4-050e252a7e6e"
      },
      "outputs": [
        {
          "data": {
            "text/plain": [
              "((20631, 29), (13096, 29))"
            ]
          },
          "execution_count": 16,
          "metadata": {},
          "output_type": "execute_result"
        }
      ],
      "source": [
        "# 훈련 및 테스트 데이터프레임\n",
        "train_df.shape, test_df.shape"
      ]
    },
    {
      "cell_type": "code",
      "execution_count": null,
      "metadata": {
        "colab": {
          "base_uri": "https://localhost:8080/"
        },
        "id": "dv1r0JPgMJbz",
        "outputId": "2e2d34d4-48a6-4c5f-cc0d-79ad01e1c0bf"
      },
      "outputs": [
        {
          "data": {
            "text/plain": [
              "Index(['id', 'cycle', 'setting1', 'setting2', 'setting3', 's1', 's2', 's3',\n",
              "       's4', 's5', 's6', 's7', 's8', 's9', 's10', 's11', 's12', 's13', 's14',\n",
              "       's15', 's16', 's17', 's18', 's19', 's20', 's21', 'RUL', 'label1',\n",
              "       'label2'],\n",
              "      dtype='object')"
            ]
          },
          "execution_count": 17,
          "metadata": {},
          "output_type": "execute_result"
        }
      ],
      "source": [
        "train_df.columns"
      ]
    },
    {
      "cell_type": "code",
      "execution_count": null,
      "metadata": {
        "colab": {
          "base_uri": "https://localhost:8080/"
        },
        "id": "9jGR7j7tAOVM",
        "outputId": "bcce8376-ff53-4706-bbe9-dc180258e03f"
      },
      "outputs": [
        {
          "data": {
            "text/plain": [
              "s12         0.671983\n",
              "s7          0.657223\n",
              "s21         0.635662\n",
              "s20         0.629428\n",
              "setting2   -0.001948\n",
              "setting1   -0.003198\n",
              "s6         -0.128348\n",
              "s14        -0.306769\n",
              "s9         -0.390102\n",
              "s13        -0.562569\n",
              "s8         -0.563968\n",
              "s3         -0.584520\n",
              "s17        -0.606154\n",
              "s2         -0.606484\n",
              "s15        -0.642667\n",
              "s4         -0.678948\n",
              "s11        -0.696228\n",
              "setting3         NaN\n",
              "s1               NaN\n",
              "s5               NaN\n",
              "s10              NaN\n",
              "s16              NaN\n",
              "s18              NaN\n",
              "s19              NaN\n",
              "dtype: float64"
            ]
          },
          "execution_count": 18,
          "metadata": {},
          "output_type": "execute_result"
        }
      ],
      "source": [
        "features = ['setting1','setting2','setting3','s1','s2','s3','s4','s5','s6','s7','s8','s9','s10','s11','s12','s13','s14','s15','s16','s17','s18','s19','s20','s21']\n",
        "\n",
        "# 목적변수인 RUL과 상관관계가 큰 순으로 소팅해 본다\n",
        "train_df[features].corrwith(train_df.RUL).sort_values(ascending=False)"
      ]
    },
    {
      "cell_type": "markdown",
      "metadata": {
        "id": "Ur1QgVluBMiA"
      },
      "source": [
        "# 랜덤 포레스트 사용"
      ]
    },
    {
      "cell_type": "markdown",
      "metadata": {
        "id": "7iEk1gHlL9PD"
      },
      "source": [
        "## 회귀모델\n",
        "- 학습 및 테스트 데이터"
      ]
    },
    {
      "cell_type": "code",
      "execution_count": null,
      "metadata": {
        "id": "oHhOXaGPLe3R"
      },
      "outputs": [],
      "source": [
        "X_train = train_df[features]\n",
        "X_test = test_df[features]\n",
        "y_train = train_df['RUL']\n",
        "y_test = test_df['RUL']"
      ]
    },
    {
      "cell_type": "code",
      "execution_count": null,
      "metadata": {
        "id": "SphYNX3WCMZ3"
      },
      "outputs": [],
      "source": [
        "def show_regression_result(y_test, y_pred, N=100):\n",
        "    plt.rc('figure', figsize=(6,4))\n",
        "    error = y_pred - y_test\n",
        "    print(\"MAE=\", np.abs(error).mean())\n",
        "    print(\"rmse=\", np.sqrt((error**2).mean()))\n",
        "    print(\"max error=\", max(abs(error)))\n",
        "    print(\"R2=\",r2_score(y_test, y_pred))\n",
        "    plt.plot(y_test[:N], 'r.-', label='y_test')\n",
        "    plt.plot(y_pred[:N], 'b.-', label='y_pred')\n",
        "    plt.legend()\n",
        "    plt.show()\n",
        "\n",
        "def plot_features_weights(features, weights):\n",
        "    W = pd.DataFrame({'Weights':weights}, features)\n",
        "    fig_size= 6\n",
        "    if len(features) > 30: fig_size=12\n",
        "    if len(features) > 40: fig_size=18\n",
        "    W.sort_values(by='Weights', ascending=True).plot(kind='barh', color='r', figsize=(8,fig_size))\n",
        "    plt.xlabel('Features Importance/Weights')\n",
        "    plt.gca().legend_ = None"
      ]
    },
    {
      "cell_type": "code",
      "execution_count": null,
      "metadata": {
        "colab": {
          "base_uri": "https://localhost:8080/",
          "height": 336
        },
        "id": "yB4YUZBFMeZf",
        "outputId": "c32a4c19-221d-4d06-bbdb-e0dd41a83f9d"
      },
      "outputs": [
        {
          "name": "stdout",
          "output_type": "stream",
          "text": [
            "MAE= 35.2654062309102\n",
            "rmse= 46.671544378488086\n",
            "max error= 219.64\n",
            "R2= 0.3737809264815789\n"
          ]
        },
        {
          "data": {
            "image/png": "[encoded data removed]",
            "text/plain": [
              "<Figure size 432x288 with 1 Axes>"
            ]
          },
          "metadata": {
            "image/png": {
              "height": 248,
              "width": 375
            },
            "needs_background": "light"
          },
          "output_type": "display_data"
        }
      ],
      "source": [
        "rfr = RandomForestRegressor(50)\n",
        "rfr.fit(X_train, y_train)\n",
        "y_pred = rfr.predict(X_test)\n",
        "show_regression_result(y_test, y_pred, 600)"
      ]
    },
    {
      "cell_type": "code",
      "execution_count": null,
      "metadata": {
        "colab": {
          "base_uri": "https://localhost:8080/",
          "height": 336
        },
        "id": "96-x_4oBZG3h",
        "outputId": "0a1fb78f-4550-4d4b-bc36-585c3661f89e"
      },
      "outputs": [
        {
          "name": "stdout",
          "output_type": "stream",
          "text": [
            "MAE= 34.342567193602385\n",
            "rmse= 45.85176048443863\n",
            "max error= 212.55463582580006\n",
            "R2= 0.39558674864328836\n"
          ]
        },
        {
          "data": {
            "image/png": "[encoded data removed]",
            "text/plain": [
              "<Figure size 432x288 with 1 Axes>"
            ]
          },
          "metadata": {
            "image/png": {
              "height": 248,
              "width": 375
            },
            "needs_background": "light"
          },
          "output_type": "display_data"
        }
      ],
      "source": [
        "lgbm_r = LGBMRegressor(n_estimators=300)\n",
        "lgbm_r.fit(X_train, y_train, eval_set=(X_test, y_test),\n",
        "           early_stopping_rounds=20, verbose=False)\n",
        "y_pred = lgbm_r.predict(X_test)\n",
        "show_regression_result(y_test, y_pred,600)"
      ]
    },
    {
      "cell_type": "code",
      "execution_count": null,
      "metadata": {
        "colab": {
          "base_uri": "https://localhost:8080/",
          "height": 387
        },
        "id": "kGpLE_8lN8-L",
        "outputId": "668afd30-1d64-4d20-8717-768986bbdf50"
      },
      "outputs": [
        {
          "data": {
            "image/png": "[encoded data removed]",
            "text/plain": [
              "<Figure size 576x432 with 1 Axes>"
            ]
          },
          "metadata": {
            "image/png": {
              "height": 370,
              "width": 508
            },
            "needs_background": "light"
          },
          "output_type": "display_data"
        }
      ],
      "source": [
        "plot_features_weights(X_train.columns, rfr.feature_importances_)"
      ]
    },
    {
      "cell_type": "markdown",
      "metadata": {
        "id": "aXisQ86jORW4"
      },
      "source": [
        "## 분류 모델"
      ]
    },
    {
      "cell_type": "code",
      "execution_count": null,
      "metadata": {
        "id": "ohyB1xE8OVrM"
      },
      "outputs": [],
      "source": [
        "y_train = train_df['label1']\n",
        "y_test = test_df['label1']"
      ]
    },
    {
      "cell_type": "code",
      "execution_count": null,
      "metadata": {
        "id": "3gF3sccLO5eG"
      },
      "outputs": [],
      "source": [
        "def show_clf_result(y_test, y_pred):\n",
        "    print(confusion_matrix(y_test, y_pred))\n",
        "    print(classification_report(y_test, y_pred))"
      ]
    },
    {
      "cell_type": "code",
      "execution_count": null,
      "metadata": {
        "id": "lAqlgSycOdhz"
      },
      "outputs": [],
      "source": [
        "rfc = RandomForestClassifier(max_depth=15)\n",
        "rfc.fit(X_train, y_train)\n",
        "y_pred = rfc.predict(X_test)"
      ]
    },
    {
      "cell_type": "code",
      "execution_count": null,
      "metadata": {
        "colab": {
          "base_uri": "https://localhost:8080/"
        },
        "id": "BEfEwn3NO90g",
        "outputId": "08146af5-d67d-4f69-f1f4-1cbfa5fac1dc"
      },
      "outputs": [
        {
          "name": "stdout",
          "output_type": "stream",
          "text": [
            "[[12725    39]\n",
            " [  130   202]]\n",
            "              precision    recall  f1-score   support\n",
            "\n",
            "           0       0.99      1.00      0.99     12764\n",
            "           1       0.84      0.61      0.71       332\n",
            "\n",
            "    accuracy                           0.99     13096\n",
            "   macro avg       0.91      0.80      0.85     13096\n",
            "weighted avg       0.99      0.99      0.99     13096\n",
            "\n"
          ]
        }
      ],
      "source": [
        "show_clf_result(y_test, y_pred)"
      ]
    },
    {
      "cell_type": "code",
      "execution_count": null,
      "metadata": {
        "colab": {
          "base_uri": "https://localhost:8080/",
          "height": 387
        },
        "id": "8NHF6lrgPPu3",
        "outputId": "bd27f7c3-bef9-4ecc-b471-706f0a2fc360"
      },
      "outputs": [
        {
          "data": {
            "image/png": "[encoded data removed]",
            "text/plain": [
              "<Figure size 576x432 with 1 Axes>"
            ]
          },
          "metadata": {
            "image/png": {
              "height": 370,
              "width": 509
            },
            "needs_background": "light"
          },
          "output_type": "display_data"
        }
      ],
      "source": [
        "plot_features_weights(X_train.columns, rfc.feature_importances_)"
      ]
    },
    {
      "cell_type": "markdown",
      "metadata": {
        "id": "bBhvp_B_QPLW"
      },
      "source": [
        "## 특성 추가\n",
        "- 이동평균, 이동분산 등의 컬럼을 추가해본다\n"
      ]
    },
    {
      "cell_type": "code",
      "execution_count": null,
      "metadata": {
        "id": "IlhyjRlFQhLr"
      },
      "outputs": [],
      "source": [
        "def rolling_average(df, window):\n",
        "    df_av = df.rolling(window, min_periods=1).mean()\n",
        "    df_av.columns = [col + \"_av\" + str(window) for col in df.columns]\n",
        "    return df_av\n",
        "def rolling_std(df, window):\n",
        "    df_std = df.rolling(window, min_periods=1).std().fillna(0)\n",
        "    df_std.columns = [col + \"_std\" + str(window) for col in df.columns]\n",
        "    return df_std"
      ]
    },
    {
      "cell_type": "markdown",
      "metadata": {
        "id": "YlgE_ua1VD5p"
      },
      "source": [
        "## 훈련데이터 특성 추가\n",
        "- 이동평균과 이동분산 추가 윈도우;15, 30"
      ]
    },
    {
      "cell_type": "code",
      "execution_count": null,
      "metadata": {
        "colab": {
          "base_uri": "https://localhost:8080/"
        },
        "id": "rGowUiz4QqnF",
        "outputId": "62a41d29-50ca-43ec-eaec-07e2e69b8157"
      },
      "outputs": [
        {
          "data": {
            "text/plain": [
              "(20631, 72)"
            ]
          },
          "execution_count": 30,
          "metadata": {},
          "output_type": "execute_result"
        }
      ],
      "source": [
        "window = 15\n",
        "add1 = rolling_average(X_train, window)\n",
        "add2 = rolling_std(X_train, window)\n",
        "X_train_ext = pd.concat((X_train, add1, add2), axis=1)\n",
        "X_train_ext.shape"
      ]
    },
    {
      "cell_type": "code",
      "execution_count": null,
      "metadata": {
        "colab": {
          "base_uri": "https://localhost:8080/"
        },
        "id": "HFyfZDUZOxEI",
        "outputId": "a47ed435-2481-4e1c-8d73-26c097a24dfd"
      },
      "outputs": [
        {
          "data": {
            "text/plain": [
              "(20631, 120)"
            ]
          },
          "execution_count": 31,
          "metadata": {},
          "output_type": "execute_result"
        }
      ],
      "source": [
        "window = 30\n",
        "add3 = rolling_average(X_train, window)\n",
        "add4 = rolling_std(X_train, window)\n",
        "X_train_ext2 = pd.concat((X_train_ext, add3, add4), axis=1)\n",
        "X_train_ext2.shape"
      ]
    },
    {
      "cell_type": "markdown",
      "metadata": {
        "id": "fzSysu3YVKuG"
      },
      "source": [
        "- 테스트 데이터 특성 추가"
      ]
    },
    {
      "cell_type": "code",
      "execution_count": null,
      "metadata": {
        "colab": {
          "base_uri": "https://localhost:8080/"
        },
        "id": "nKpZWURnU58J",
        "outputId": "9863a189-f5f5-4a41-985b-7c4552cbd287"
      },
      "outputs": [
        {
          "data": {
            "text/plain": [
              "(13096, 72)"
            ]
          },
          "execution_count": 32,
          "metadata": {},
          "output_type": "execute_result"
        }
      ],
      "source": [
        "add1 = rolling_average(X_test, window)\n",
        "add2 = rolling_std(X_test, window)\n",
        "X_test_ext = pd.concat((X_test, add1, add2), axis=1)\n",
        "X_test_ext.shape"
      ]
    },
    {
      "cell_type": "code",
      "execution_count": null,
      "metadata": {
        "colab": {
          "base_uri": "https://localhost:8080/"
        },
        "id": "wPuHJdPhPEIs",
        "outputId": "4b1e01e7-63b0-477b-b956-97d23be3c9f2"
      },
      "outputs": [
        {
          "data": {
            "text/plain": [
              "(13096, 120)"
            ]
          },
          "execution_count": 33,
          "metadata": {},
          "output_type": "execute_result"
        }
      ],
      "source": [
        "window = 30\n",
        "add3 = rolling_average(X_test, window)\n",
        "add4 = rolling_std(X_test, window)\n",
        "X_test_ext2 = pd.concat((X_test_ext, add3, add4), axis=1)\n",
        "X_test_ext2.shape"
      ]
    },
    {
      "cell_type": "code",
      "execution_count": null,
      "metadata": {
        "colab": {
          "base_uri": "https://localhost:8080/"
        },
        "id": "D0eXDDMAOCvi",
        "outputId": "3eaa03b7-9f60-4b6d-d8aa-38eb5fb55661"
      },
      "outputs": [
        {
          "name": "stdout",
          "output_type": "stream",
          "text": [
            "[[12752    12]\n",
            " [  159   173]]\n",
            "              precision    recall  f1-score   support\n",
            "\n",
            "           0       0.99      1.00      0.99     12764\n",
            "           1       0.94      0.52      0.67       332\n",
            "\n",
            "    accuracy                           0.99     13096\n",
            "   macro avg       0.96      0.76      0.83     13096\n",
            "weighted avg       0.99      0.99      0.99     13096\n",
            "\n"
          ]
        },
        {
          "name": "stderr",
          "output_type": "stream",
          "text": [
            "/usr/local/lib/python3.7/dist-packages/sklearn/base.py:493: FutureWarning: The feature names should match those that were passed during fit. Starting version 1.2, an error will be raised.\n",
            "Feature names seen at fit time, yet now missing:\n",
            "- s10_av15\n",
            "- s10_std15\n",
            "- s11_av15\n",
            "- s11_std15\n",
            "- s12_av15\n",
            "- ...\n",
            "\n",
            "  warnings.warn(message, FutureWarning)\n"
          ]
        }
      ],
      "source": [
        "rfc = RandomForestClassifier()\n",
        "rfc.fit(X_train_ext2, y_train)\n",
        "y_pred = rfc.predict(X_test_ext2)\n",
        "show_clf_result(y_test, y_pred)"
      ]
    },
    {
      "cell_type": "code",
      "execution_count": null,
      "metadata": {
        "colab": {
          "base_uri": "https://localhost:8080/",
          "height": 1000
        },
        "id": "3dw9F8IRQUny",
        "outputId": "b9755a15-f4e3-4740-c44f-f8d6d831e667"
      },
      "outputs": [
        {
          "data": {
            "image/png": "[encoded data removed]",
            "text/plain": [
              "<Figure size 576x1296 with 1 Axes>"
            ]
          },
          "metadata": {
            "image/png": {
              "height": 1022,
              "width": 542
            },
            "needs_background": "light"
          },
          "output_type": "display_data"
        }
      ],
      "source": [
        "plot_features_weights(X_train_ext2.columns, rfc.feature_importances_)"
      ]
    },
    {
      "cell_type": "markdown",
      "metadata": {
        "id": "JMSUq_kGR5TV"
      },
      "source": [
        "## 10개의 특성만 사용"
      ]
    },
    {
      "cell_type": "code",
      "execution_count": null,
      "metadata": {
        "id": "tZAkW9WCQKSF"
      },
      "outputs": [],
      "source": [
        "# 특성 10개 선택\n",
        "features = ['s2','s4','s7','s9','s11','s12','s14','s15','s20','s21']\n",
        "X_train = train_df[features]\n",
        "X_test = test_df[features]\n",
        "\n",
        "# 이후 위의 내용을 다시 수행"
      ]
    },
    {
      "cell_type": "code",
      "execution_count": null,
      "metadata": {
        "id": "Gsze-KpkRdIw"
      },
      "outputs": [],
      "source": [
        "window = 15\n",
        "add1 = rolling_average(X_train, window)\n",
        "add2 = rolling_std(X_train, window)\n",
        "X_train_ext = pd.concat((X_train, add1, add2), axis=1)\n",
        "\n",
        "window = 30\n",
        "add3 = rolling_average(X_train, window)\n",
        "add4 = rolling_std(X_train, window)\n",
        "X_train_ext2 = pd.concat((X_train_ext, add3, add4), axis=1)\n",
        "\n",
        "window = 15\n",
        "add1 = rolling_average(X_test, window)\n",
        "add2 = rolling_std(X_test, window)\n",
        "X_test_ext = pd.concat((X_test, add1, add2), axis=1)\n",
        "\n",
        "window = 30\n",
        "add3 = rolling_average(X_test, window)\n",
        "add4 = rolling_std(X_test, window)\n",
        "X_test_ext2 = pd.concat((X_test_ext, add3, add4), axis=1)"
      ]
    },
    {
      "cell_type": "code",
      "execution_count": null,
      "metadata": {
        "colab": {
          "base_uri": "https://localhost:8080/"
        },
        "id": "Uk2DgNZCR0sS",
        "outputId": "9dab3b7f-9c73-47a7-eb27-49decef7cbde"
      },
      "outputs": [
        {
          "name": "stdout",
          "output_type": "stream",
          "text": [
            "[[12729    35]\n",
            " [  113   219]]\n",
            "              precision    recall  f1-score   support\n",
            "\n",
            "           0       0.99      1.00      0.99     12764\n",
            "           1       0.86      0.66      0.75       332\n",
            "\n",
            "    accuracy                           0.99     13096\n",
            "   macro avg       0.93      0.83      0.87     13096\n",
            "weighted avg       0.99      0.99      0.99     13096\n",
            "\n"
          ]
        }
      ],
      "source": [
        "rfc = RandomForestClassifier()\n",
        "rfc.fit(X_train_ext2, y_train)\n",
        "y_pred = rfc.predict(X_test_ext2)\n",
        "show_clf_result(y_test, y_pred)"
      ]
    },
    {
      "cell_type": "markdown",
      "metadata": {
        "id": "Q5z1OkPj4jtU"
      },
      "source": [
        "# LSTM 사용\n",
        "\n",
        "- LSTM 윈도우를 충분히 크게 잡으면 윈도우 내의 중요한 신호를 파악하여 사용할 수 있다\n",
        "- 장단기 신호를 전파할 수 있다.\n",
        "- 단순히 이동평균을 사용하면 하나의 정보만 남게되어 스무딩된다"
      ]
    },
    {
      "cell_type": "markdown",
      "metadata": {
        "id": "qhpn1SkycyIw"
      },
      "source": [
        "## 임의의 시퀀스를 n_steps 크기로 나누는 함수\n",
        "\n",
        "- (주의) 아래 함수는 마지막 샘플은 포함하지 않는다\n",
        "- 현재 데이터로 현재를 예측하는 것이 맞는지는 응용에 따라서 점검해야 한다"
      ]
    },
    {
      "cell_type": "code",
      "execution_count": null,
      "metadata": {
        "id": "rBOHRvYttANg"
      },
      "outputs": [],
      "source": [
        "def split_seq(sequence, n_steps):\n",
        "  x = []\n",
        "  for i in range(len(sequence)- n_steps):\n",
        "    x.append(sequence[i:i+ n_steps])\n",
        "  return np.array(x)"
      ]
    },
    {
      "cell_type": "code",
      "execution_count": null,
      "metadata": {
        "colab": {
          "base_uri": "https://localhost:8080/"
        },
        "id": "Az5CidQyvJ6c",
        "outputId": "6ab9a7f9-04ab-42d6-98df-19060399cea1"
      },
      "outputs": [
        {
          "data": {
            "text/plain": [
              "(6, 4, 2)"
            ]
          },
          "execution_count": 40,
          "metadata": {},
          "output_type": "execute_result"
        }
      ],
      "source": [
        "# 예제\n",
        "x = np.arange(20).reshape(-1,2)\n",
        "inp = split_seq(x,4)\n",
        "inp.shape"
      ]
    },
    {
      "cell_type": "code",
      "execution_count": null,
      "metadata": {
        "colab": {
          "base_uri": "https://localhost:8080/"
        },
        "id": "nZ82IHK1SR0n",
        "outputId": "345b0451-ecd3-47f5-a569-88edae925451"
      },
      "outputs": [
        {
          "data": {
            "text/plain": [
              "array([[ 0,  1],\n",
              "       [ 2,  3],\n",
              "       [ 4,  5],\n",
              "       [ 6,  7],\n",
              "       [ 8,  9],\n",
              "       [10, 11],\n",
              "       [12, 13],\n",
              "       [14, 15],\n",
              "       [16, 17],\n",
              "       [18, 19]])"
            ]
          },
          "execution_count": 41,
          "metadata": {},
          "output_type": "execute_result"
        }
      ],
      "source": [
        "x"
      ]
    },
    {
      "cell_type": "code",
      "execution_count": null,
      "metadata": {
        "colab": {
          "base_uri": "https://localhost:8080/"
        },
        "id": "tqz85sgLSUni",
        "outputId": "408d24e3-1407-4958-8cba-82ec901d192c"
      },
      "outputs": [
        {
          "data": {
            "text/plain": [
              "array([[[ 0,  1],\n",
              "        [ 2,  3],\n",
              "        [ 4,  5],\n",
              "        [ 6,  7]],\n",
              "\n",
              "       [[ 2,  3],\n",
              "        [ 4,  5],\n",
              "        [ 6,  7],\n",
              "        [ 8,  9]],\n",
              "\n",
              "       [[ 4,  5],\n",
              "        [ 6,  7],\n",
              "        [ 8,  9],\n",
              "        [10, 11]],\n",
              "\n",
              "       [[ 6,  7],\n",
              "        [ 8,  9],\n",
              "        [10, 11],\n",
              "        [12, 13]],\n",
              "\n",
              "       [[ 8,  9],\n",
              "        [10, 11],\n",
              "        [12, 13],\n",
              "        [14, 15]],\n",
              "\n",
              "       [[10, 11],\n",
              "        [12, 13],\n",
              "        [14, 15],\n",
              "        [16, 17]]])"
            ]
          },
          "execution_count": 42,
          "metadata": {},
          "output_type": "execute_result"
        }
      ],
      "source": [
        "inp"
      ]
    },
    {
      "cell_type": "markdown",
      "metadata": {
        "id": "AybDQCB54jtV"
      },
      "source": [
        "- LSTM 신경망은 (samples, time steps, features) 구조의 입력를 필요로 한다"
      ]
    },
    {
      "cell_type": "markdown",
      "metadata": {
        "id": "91mgcQsXeqJY"
      },
      "source": [
        "## 입력 시퀀스 만들기"
      ]
    },
    {
      "cell_type": "code",
      "execution_count": null,
      "metadata": {
        "colab": {
          "base_uri": "https://localhost:8080/"
        },
        "id": "Eeh7GClExagi",
        "outputId": "501cbd93-7375-4c27-e422-1ae27ce4c96b"
      },
      "outputs": [
        {
          "data": {
            "text/plain": [
              "(15631, 50, 10)"
            ]
          },
          "execution_count": 43,
          "metadata": {},
          "output_type": "execute_result"
        }
      ],
      "source": [
        "n_steps = 50\n",
        "res = []\n",
        "for id in train_df['id'].unique():\n",
        "  res.append(split_seq(train_df[train_df['id']==id][features], n_steps))\n",
        "seq_array = np.concatenate(res)\n",
        "seq_array.shape"
      ]
    },
    {
      "cell_type": "code",
      "execution_count": null,
      "metadata": {
        "colab": {
          "base_uri": "https://localhost:8080/"
        },
        "id": "I_Xa5uNENRuK",
        "outputId": "4dfe8539-4eee-4c97-a880-8c948e2fccb4"
      },
      "outputs": [
        {
          "data": {
            "text/plain": [
              "(20631, 29)"
            ]
          },
          "execution_count": 44,
          "metadata": {},
          "output_type": "execute_result"
        }
      ],
      "source": [
        "train_df.shape"
      ]
    },
    {
      "cell_type": "markdown",
      "metadata": {
        "id": "Gc-HOHgpmDtl"
      },
      "source": [
        "## 회귀 모델"
      ]
    },
    {
      "cell_type": "code",
      "execution_count": null,
      "metadata": {
        "colab": {
          "base_uri": "https://localhost:8080/"
        },
        "id": "8uDzNbd9RmjT",
        "outputId": "1f6f8776-8899-441a-b371-de599dc3cc0a"
      },
      "outputs": [
        {
          "data": {
            "text/plain": [
              "(15631, 1)"
            ]
          },
          "execution_count": 45,
          "metadata": {},
          "output_type": "execute_result"
        }
      ],
      "source": [
        "# 회귀 레이블 얻기\n",
        "res2 = []\n",
        "label = [\"RUL\"]\n",
        "for id in train_df['id'].unique():\n",
        "  res2.append(train_df[train_df['id']==id][label][n_steps:len(train_df)])\n",
        "label_array = np.concatenate(res2)\n",
        "label_array.shape"
      ]
    },
    {
      "cell_type": "markdown",
      "metadata": {
        "id": "Jn2S0E845PbP"
      },
      "source": [
        "- r2 값을 모니터링한다"
      ]
    },
    {
      "cell_type": "code",
      "execution_count": null,
      "metadata": {
        "id": "V6mSW_Ld1JHM"
      },
      "outputs": [],
      "source": [
        "import keras.backend as K\n",
        "def r2_keras(y_true, y_pred):\n",
        "    SS_res =  K.sum(K.square( y_true - y_pred ))\n",
        "    SS_tot = K.sum(K.square( y_true - K.mean(y_true) ) )\n",
        "    return ( 1 - SS_res/(SS_tot + K.epsilon()) )"
      ]
    },
    {
      "cell_type": "code",
      "execution_count": null,
      "metadata": {
        "colab": {
          "base_uri": "https://localhost:8080/"
        },
        "id": "Y6g3e_L8UYAY",
        "outputId": "e930a9fd-cebe-4100-b8c4-87831053d61e"
      },
      "outputs": [
        {
          "data": {
            "text/plain": [
              "(15631, 50, 10)"
            ]
          },
          "execution_count": 47,
          "metadata": {},
          "output_type": "execute_result"
        }
      ],
      "source": [
        "seq_array.shape"
      ]
    },
    {
      "cell_type": "code",
      "execution_count": null,
      "metadata": {
        "id": "eaWpv9ZzRvc2"
      },
      "outputs": [],
      "source": [
        "nb_features = seq_array.shape[2] # 24\n",
        "nb_out = label_array.shape[1]   # 1\n",
        "\n",
        "model = Sequential()\n",
        "\n",
        "model.add(LSTM(\n",
        "         input_shape=(n_steps, nb_features), # (50, 24)\n",
        "         units=100,                          # 뉴런의 수, 셀의 수\n",
        "         return_sequences=True))\n",
        "model.add(Dropout(0.2))\n",
        "\n",
        "model.add(LSTM(\n",
        "          units=50,\n",
        "          return_sequences=False))\n",
        "model.add(Dropout(0.2))\n",
        "\n",
        "model.add(Dense(1)) # 1\n",
        "model.add(Activation(\"linear\"))"
      ]
    },
    {
      "cell_type": "markdown",
      "metadata": {
        "id": "J6UHNeYsYyRP"
      },
      "source": []
    },
    {
      "cell_type": "code",
      "execution_count": null,
      "metadata": {
        "colab": {
          "base_uri": "https://localhost:8080/"
        },
        "id": "U2ITz1RuSAO0",
        "outputId": "2ba64c8a-87aa-44fb-8719-1d75fd3d2cda"
      },
      "outputs": [
        {
          "name": "stdout",
          "output_type": "stream",
          "text": [
            "Model: \"sequential\"\n",
            "_________________________________________________________________\n",
            " Layer (type)                Output Shape              Param #   \n",
            "=================================================================\n",
            " lstm (LSTM)                 (None, 50, 100)           44400     \n",
            "                                                                 \n",
            " dropout (Dropout)           (None, 50, 100)           0         \n",
            "                                                                 \n",
            " lstm_1 (LSTM)               (None, 50)                30200     \n",
            "                                                                 \n",
            " dropout_1 (Dropout)         (None, 50)                0         \n",
            "                                                                 \n",
            " dense (Dense)               (None, 1)                 51        \n",
            "                                                                 \n",
            " activation (Activation)     (None, 1)                 0         \n",
            "                                                                 \n",
            "=================================================================\n",
            "Total params: 74,651\n",
            "Trainable params: 74,651\n",
            "Non-trainable params: 0\n",
            "_________________________________________________________________\n"
          ]
        }
      ],
      "source": [
        "model.summary()"
      ]
    },
    {
      "cell_type": "code",
      "execution_count": null,
      "metadata": {
        "colab": {
          "base_uri": "https://localhost:8080/"
        },
        "id": "obgfErfgSOT4",
        "outputId": "176cb200-7548-442a-f4dd-4a63a40abcd2"
      },
      "outputs": [
        {
          "name": "stdout",
          "output_type": "stream",
          "text": [
            "Epoch 1/100\n",
            "75/75 - 6s - loss: 8864.2617 - mae: 75.4706 - r2_keras: -1.7335e+00 - val_loss: 8283.4082 - val_mae: 72.6028 - val_r2_keras: -2.4868e+00 - 6s/epoch - 82ms/step\n",
            "Epoch 2/100\n",
            "75/75 - 1s - loss: 8189.3521 - mae: 71.5445 - r2_keras: -1.5175e+00 - val_loss: 7753.0283 - val_mae: 69.5191 - val_r2_keras: -2.2361e+00 - 750ms/epoch - 10ms/step\n",
            "Epoch 3/100\n",
            "75/75 - 1s - loss: 7671.6729 - mae: 68.5616 - r2_keras: -1.3610e+00 - val_loss: 7255.1357 - val_mae: 66.6404 - val_r2_keras: -2.0026e+00 - 729ms/epoch - 10ms/step\n",
            "Epoch 4/100\n",
            "75/75 - 1s - loss: 7183.5977 - mae: 65.7757 - r2_keras: -1.2115e+00 - val_loss: 6783.5142 - val_mae: 63.9321 - val_r2_keras: -1.7834e+00 - 736ms/epoch - 10ms/step\n",
            "Epoch 5/100\n",
            "75/75 - 1s - loss: 6728.5479 - mae: 63.2053 - r2_keras: -1.0718e+00 - val_loss: 6343.8052 - val_mae: 61.4265 - val_r2_keras: -1.5812e+00 - 746ms/epoch - 10ms/step\n",
            "Epoch 6/100\n",
            "75/75 - 1s - loss: 6298.8164 - mae: 60.7657 - r2_keras: -9.4490e-01 - val_loss: 5932.6699 - val_mae: 59.1028 - val_r2_keras: -1.3942e+00 - 733ms/epoch - 10ms/step\n",
            "Epoch 7/100\n",
            "75/75 - 1s - loss: 5900.9077 - mae: 58.5302 - r2_keras: -8.1320e-01 - val_loss: 5550.6255 - val_mae: 56.9639 - val_r2_keras: -1.2229e+00 - 739ms/epoch - 10ms/step\n",
            "Epoch 8/100\n",
            "75/75 - 1s - loss: 5531.8633 - mae: 56.5261 - r2_keras: -7.0281e-01 - val_loss: 5195.7319 - val_mae: 54.9994 - val_r2_keras: -1.0663e+00 - 728ms/epoch - 10ms/step\n",
            "Epoch 9/100\n",
            "75/75 - 1s - loss: 5184.1250 - mae: 54.6179 - r2_keras: -5.9252e-01 - val_loss: 4871.7183 - val_mae: 53.2321 - val_r2_keras: -9.2602e-01 - 737ms/epoch - 10ms/step\n",
            "Epoch 10/100\n",
            "75/75 - 1s - loss: 4882.5078 - mae: 52.9784 - r2_keras: -5.0051e-01 - val_loss: 4577.2988 - val_mae: 51.6518 - val_r2_keras: -8.0149e-01 - 744ms/epoch - 10ms/step\n",
            "Epoch 11/100\n",
            "75/75 - 1s - loss: 4593.6680 - mae: 51.4610 - r2_keras: -4.0972e-01 - val_loss: 4309.5605 - val_mae: 50.2427 - val_r2_keras: -6.9147e-01 - 756ms/epoch - 10ms/step\n",
            "Epoch 12/100\n",
            "75/75 - 1s - loss: 4336.2310 - mae: 50.1807 - r2_keras: -3.3143e-01 - val_loss: 4069.9153 - val_mae: 49.0127 - val_r2_keras: -5.9655e-01 - 776ms/epoch - 10ms/step\n",
            "Epoch 13/100\n",
            "75/75 - 1s - loss: 4114.5190 - mae: 49.1024 - r2_keras: -2.6391e-01 - val_loss: 3859.9351 - val_mae: 47.9725 - val_r2_keras: -5.1733e-01 - 747ms/epoch - 10ms/step\n",
            "Epoch 14/100\n",
            "75/75 - 1s - loss: 3912.4768 - mae: 48.0952 - r2_keras: -2.0042e-01 - val_loss: 3680.6418 - val_mae: 47.1222 - val_r2_keras: -4.5403e-01 - 756ms/epoch - 10ms/step\n",
            "Epoch 15/100\n",
            "75/75 - 1s - loss: 3748.1538 - mae: 47.3759 - r2_keras: -1.5041e-01 - val_loss: 3528.3499 - val_mae: 46.4427 - val_r2_keras: -4.0519e-01 - 774ms/epoch - 10ms/step\n",
            "Epoch 16/100\n",
            "75/75 - 1s - loss: 3610.1685 - mae: 46.8278 - r2_keras: -1.0706e-01 - val_loss: 3405.3557 - val_mae: 45.9465 - val_r2_keras: -3.7136e-01 - 754ms/epoch - 10ms/step\n",
            "Epoch 17/100\n",
            "75/75 - 1s - loss: 3494.0212 - mae: 46.3906 - r2_keras: -7.2637e-02 - val_loss: 3309.3162 - val_mae: 45.6158 - val_r2_keras: -3.5149e-01 - 743ms/epoch - 10ms/step\n",
            "Epoch 18/100\n",
            "75/75 - 1s - loss: 3405.5110 - mae: 46.1347 - r2_keras: -4.5499e-02 - val_loss: 3239.9243 - val_mae: 45.4480 - val_r2_keras: -3.4493e-01 - 742ms/epoch - 10ms/step\n",
            "Epoch 19/100\n",
            "75/75 - 1s - loss: 3368.4709 - mae: 46.1095 - r2_keras: -3.4420e-02 - val_loss: 3198.1301 - val_mae: 45.4220 - val_r2_keras: -3.4942e-01 - 739ms/epoch - 10ms/step\n",
            "Epoch 20/100\n",
            "75/75 - 1s - loss: 3184.0293 - mae: 43.8656 - r2_keras: 0.0257 - val_loss: 2377.5532 - val_mae: 35.4171 - val_r2_keras: 0.0635 - 735ms/epoch - 10ms/step\n",
            "Epoch 21/100\n",
            "75/75 - 1s - loss: 2421.5940 - mae: 34.1555 - r2_keras: 0.2565 - val_loss: 2285.5317 - val_mae: 34.7267 - val_r2_keras: 0.0796 - 736ms/epoch - 10ms/step\n",
            "Epoch 22/100\n",
            "75/75 - 1s - loss: 2129.2363 - mae: 30.8401 - r2_keras: 0.3488 - val_loss: 1900.4689 - val_mae: 29.5590 - val_r2_keras: 0.2756 - 738ms/epoch - 10ms/step\n",
            "Epoch 23/100\n",
            "75/75 - 1s - loss: 1945.7495 - mae: 29.0258 - r2_keras: 0.4061 - val_loss: 1663.3446 - val_mae: 26.1445 - val_r2_keras: 0.4057 - 742ms/epoch - 10ms/step\n",
            "Epoch 24/100\n",
            "75/75 - 1s - loss: 1773.2003 - mae: 27.1092 - r2_keras: 0.4571 - val_loss: 1605.6012 - val_mae: 25.9679 - val_r2_keras: 0.4524 - 742ms/epoch - 10ms/step\n",
            "Epoch 25/100\n",
            "75/75 - 1s - loss: 1643.1469 - mae: 25.9059 - r2_keras: 0.4975 - val_loss: 1396.2930 - val_mae: 21.9485 - val_r2_keras: 0.5328 - 733ms/epoch - 10ms/step\n",
            "Epoch 26/100\n",
            "75/75 - 1s - loss: 1518.9509 - mae: 24.7058 - r2_keras: 0.5376 - val_loss: 1327.5116 - val_mae: 23.4594 - val_r2_keras: 0.5273 - 733ms/epoch - 10ms/step\n",
            "Epoch 27/100\n",
            "75/75 - 1s - loss: 1419.0801 - mae: 23.7808 - r2_keras: 0.5672 - val_loss: 1257.2612 - val_mae: 22.0899 - val_r2_keras: 0.5785 - 734ms/epoch - 10ms/step\n",
            "Epoch 28/100\n",
            "75/75 - 1s - loss: 1328.2637 - mae: 22.9773 - r2_keras: 0.5950 - val_loss: 1303.2466 - val_mae: 24.7276 - val_r2_keras: 0.5103 - 748ms/epoch - 10ms/step\n",
            "Epoch 29/100\n",
            "75/75 - 1s - loss: 1244.7584 - mae: 22.1934 - r2_keras: 0.6198 - val_loss: 1130.1455 - val_mae: 22.2477 - val_r2_keras: 0.5663 - 734ms/epoch - 10ms/step\n",
            "Epoch 30/100\n",
            "75/75 - 1s - loss: 1177.1838 - mae: 21.5803 - r2_keras: 0.6426 - val_loss: 1067.0874 - val_mae: 22.1092 - val_r2_keras: 0.6228 - 737ms/epoch - 10ms/step\n",
            "Epoch 31/100\n",
            "75/75 - 1s - loss: 1114.1940 - mae: 21.0670 - r2_keras: 0.6607 - val_loss: 1003.2996 - val_mae: 20.9872 - val_r2_keras: 0.5963 - 731ms/epoch - 10ms/step\n",
            "Epoch 32/100\n",
            "75/75 - 1s - loss: 1076.3667 - mae: 20.6634 - r2_keras: 0.6718 - val_loss: 967.3558 - val_mae: 19.5093 - val_r2_keras: 0.6672 - 737ms/epoch - 10ms/step\n",
            "Epoch 33/100\n",
            "75/75 - 1s - loss: 1008.0823 - mae: 20.0222 - r2_keras: 0.6926 - val_loss: 878.5274 - val_mae: 19.0782 - val_r2_keras: 0.6950 - 725ms/epoch - 10ms/step\n",
            "Epoch 34/100\n",
            "75/75 - 1s - loss: 964.2813 - mae: 19.7169 - r2_keras: 0.7065 - val_loss: 942.5273 - val_mae: 19.8695 - val_r2_keras: 0.6579 - 753ms/epoch - 10ms/step\n",
            "Epoch 35/100\n",
            "75/75 - 1s - loss: 942.4653 - mae: 19.4789 - r2_keras: 0.7136 - val_loss: 836.5694 - val_mae: 16.7237 - val_r2_keras: 0.7241 - 728ms/epoch - 10ms/step\n",
            "Epoch 36/100\n",
            "75/75 - 1s - loss: 896.2325 - mae: 19.1513 - r2_keras: 0.7273 - val_loss: 893.1445 - val_mae: 21.0951 - val_r2_keras: 0.5774 - 745ms/epoch - 10ms/step\n",
            "Epoch 37/100\n",
            "75/75 - 1s - loss: 889.8692 - mae: 19.1179 - r2_keras: 0.7286 - val_loss: 841.5693 - val_mae: 20.5267 - val_r2_keras: 0.6111 - 733ms/epoch - 10ms/step\n",
            "Epoch 38/100\n",
            "75/75 - 1s - loss: 842.7278 - mae: 18.6928 - r2_keras: 0.7418 - val_loss: 927.6487 - val_mae: 20.6093 - val_r2_keras: 0.6674 - 767ms/epoch - 10ms/step\n",
            "Epoch 39/100\n",
            "75/75 - 1s - loss: 838.0447 - mae: 18.7657 - r2_keras: 0.7443 - val_loss: 852.8497 - val_mae: 19.0806 - val_r2_keras: 0.6933 - 738ms/epoch - 10ms/step\n",
            "Epoch 40/100\n",
            "75/75 - 1s - loss: 818.5654 - mae: 18.5358 - r2_keras: 0.7485 - val_loss: 675.1440 - val_mae: 17.1671 - val_r2_keras: 0.7284 - 713ms/epoch - 10ms/step\n",
            "Epoch 41/100\n",
            "75/75 - 1s - loss: 801.1225 - mae: 18.4189 - r2_keras: 0.7546 - val_loss: 695.1066 - val_mae: 18.2306 - val_r2_keras: 0.6902 - 722ms/epoch - 10ms/step\n",
            "Epoch 42/100\n",
            "75/75 - 1s - loss: 782.8557 - mae: 18.1159 - r2_keras: 0.7611 - val_loss: 805.1285 - val_mae: 19.0984 - val_r2_keras: 0.6867 - 721ms/epoch - 10ms/step\n",
            "Epoch 43/100\n",
            "75/75 - 1s - loss: 771.2695 - mae: 18.0264 - r2_keras: 0.7642 - val_loss: 674.6145 - val_mae: 17.7486 - val_r2_keras: 0.7392 - 750ms/epoch - 10ms/step\n",
            "Epoch 44/100\n",
            "75/75 - 1s - loss: 762.4725 - mae: 17.9932 - r2_keras: 0.7669 - val_loss: 728.5982 - val_mae: 20.1711 - val_r2_keras: 0.6929 - 715ms/epoch - 10ms/step\n",
            "Epoch 45/100\n",
            "75/75 - 1s - loss: 750.5052 - mae: 17.9077 - r2_keras: 0.7703 - val_loss: 972.7822 - val_mae: 19.1560 - val_r2_keras: 0.6699 - 738ms/epoch - 10ms/step\n",
            "Epoch 46/100\n",
            "75/75 - 1s - loss: 727.4774 - mae: 17.5954 - r2_keras: 0.7767 - val_loss: 802.4005 - val_mae: 18.5711 - val_r2_keras: 0.7037 - 741ms/epoch - 10ms/step\n",
            "Epoch 47/100\n",
            "75/75 - 1s - loss: 717.5192 - mae: 17.4540 - r2_keras: 0.7804 - val_loss: 950.9954 - val_mae: 18.6103 - val_r2_keras: 0.6660 - 730ms/epoch - 10ms/step\n",
            "Epoch 48/100\n",
            "75/75 - 1s - loss: 731.3770 - mae: 17.6997 - r2_keras: 0.7761 - val_loss: 759.5132 - val_mae: 17.1312 - val_r2_keras: 0.7124 - 734ms/epoch - 10ms/step\n",
            "Epoch 49/100\n",
            "75/75 - 1s - loss: 712.4557 - mae: 17.4311 - r2_keras: 0.7819 - val_loss: 741.8454 - val_mae: 17.6979 - val_r2_keras: 0.7010 - 737ms/epoch - 10ms/step\n",
            "Epoch 50/100\n",
            "75/75 - 1s - loss: 697.1266 - mae: 17.3127 - r2_keras: 0.7868 - val_loss: 722.0093 - val_mae: 19.7520 - val_r2_keras: 0.6570 - 750ms/epoch - 10ms/step\n",
            "dict_keys(['loss', 'mae', 'r2_keras', 'val_loss', 'val_mae', 'val_r2_keras'])\n"
          ]
        }
      ],
      "source": [
        "model.compile(loss='mean_squared_error', optimizer='rmsprop',metrics=['mae',r2_keras])\n",
        "\n",
        "history = model.fit(seq_array, label_array, epochs=100, batch_size=200, validation_split=0.05, verbose=2,\n",
        "          callbacks = [keras.callbacks.EarlyStopping(monitor='val_loss', min_delta=0, patience=7, verbose=0, mode='min')])\n",
        "\n",
        "print(history.history.keys())"
      ]
    },
    {
      "cell_type": "code",
      "execution_count": null,
      "metadata": {
        "colab": {
          "base_uri": "https://localhost:8080/"
        },
        "id": "QRgEuhKTnYSJ",
        "outputId": "9c36e73f-e75d-423d-b7d0-9ffc9ef20561"
      },
      "outputs": [
        {
          "name": "stdout",
          "output_type": "stream",
          "text": [
            "79/79 [==============================] - 1s 5ms/step\n"
          ]
        }
      ],
      "source": [
        "y_pred = model.predict(seq_array,verbose=1, batch_size=200)"
      ]
    },
    {
      "cell_type": "code",
      "execution_count": null,
      "metadata": {
        "id": "tIKqs6BmxsZM"
      },
      "outputs": [],
      "source": [
        "def show_mae(history):\n",
        "    plt.plot(history.history['mae'], 'r', label='mae')\n",
        "    plt.plot(history.history['val_mae'], 'b', label='val_mae')\n",
        "    plt.ylim(0)\n",
        "    plt.legend()\n",
        "    plt.show()\n",
        "def show_r2(history):\n",
        "    plt.figure(figsize=(6, 4))\n",
        "    plt.plot(history.history['r2_keras'], 'r--', label='train_r2')\n",
        "    plt.plot(history.history['val_r2_keras'], 'b--', label='val_r2')\n",
        "    plt.ylim(0)\n",
        "    plt.legend()\n",
        "    plt.show()"
      ]
    },
    {
      "cell_type": "code",
      "execution_count": null,
      "metadata": {
        "colab": {
          "base_uri": "https://localhost:8080/",
          "height": 336
        },
        "id": "0HgIJhLln8yH",
        "outputId": "7a78d856-6b10-4225-ef47-ffffe11ad0f6"
      },
      "outputs": [
        {
          "name": "stdout",
          "output_type": "stream",
          "text": [
            "MAE= 17.230003855109604\n",
            "rmse= 25.606926623444338\n",
            "max error= 149.18934631347656\n",
            "R2= 0.7991818741555992\n"
          ]
        },
        {
          "data": {
            "image/png": "[encoded data removed]",
            "text/plain": [
              "<Figure size 432x288 with 1 Axes>"
            ]
          },
          "metadata": {
            "image/png": {
              "height": 248,
              "width": 375
            },
            "needs_background": "light"
          },
          "output_type": "display_data"
        }
      ],
      "source": [
        "show_regression_result(label_array.ravel(), y_pred.ravel(),600)"
      ]
    },
    {
      "cell_type": "code",
      "execution_count": null,
      "metadata": {
        "colab": {
          "base_uri": "https://localhost:8080/",
          "height": 265
        },
        "id": "NZIUxI-exy2v",
        "outputId": "8d2cbc4a-579f-4627-8606-83939e99ac4b"
      },
      "outputs": [
        {
          "data": {
            "image/png": "[encoded data removed]",
            "text/plain": [
              "<Figure size 432x288 with 1 Axes>"
            ]
          },
          "metadata": {
            "image/png": {
              "height": 248,
              "width": 372
            },
            "needs_background": "light"
          },
          "output_type": "display_data"
        }
      ],
      "source": [
        "show_r2(history)"
      ]
    },
    {
      "cell_type": "code",
      "execution_count": null,
      "metadata": {
        "colab": {
          "base_uri": "https://localhost:8080/",
          "height": 265
        },
        "id": "sDv680S_n8gI",
        "outputId": "b43ca078-d257-4587-e266-bfb229f0c6b8"
      },
      "outputs": [
        {
          "data": {
            "image/png": "[encoded data removed]",
            "text/plain": [
              "<Figure size 432x288 with 1 Axes>"
            ]
          },
          "metadata": {
            "image/png": {
              "height": 248,
              "width": 369
            },
            "needs_background": "light"
          },
          "output_type": "display_data"
        }
      ],
      "source": [
        "show_mae(history)"
      ]
    },
    {
      "cell_type": "markdown",
      "metadata": {
        "id": "gc0a0KKi4jtY"
      },
      "source": [
        "## 테스트 데이터에 적용\n",
        "- 테스트 데이터의 각 엔진별 마지막 50 샘플을 입력으로 사용한다\n",
        "- 마지막 샘플수가 50보다 작은 경우는 테스트할 수 없다"
      ]
    },
    {
      "cell_type": "code",
      "execution_count": null,
      "metadata": {
        "colab": {
          "base_uri": "https://localhost:8080/"
        },
        "id": "uVUQdvwA4jtY",
        "outputId": "b44d3d72-76bc-4171-9b3f-76a3e72ccd60"
      },
      "outputs": [
        {
          "data": {
            "text/plain": [
              "(93, 50, 10)"
            ]
          },
          "execution_count": 56,
          "metadata": {},
          "output_type": "execute_result"
        }
      ],
      "source": [
        "sequence_cols = features\n",
        "sequence_length = 50\n",
        "seq_array_test_last = [test_df[test_df['id']==id][sequence_cols].values[-sequence_length:]\n",
        "                       for id in test_df['id'].unique() if len(test_df[test_df['id']==id]) >= sequence_length]\n",
        "\n",
        "seq_array_test_last = np.asarray(seq_array_test_last).astype(np.float32)\n",
        "seq_array_test_last.shape"
      ]
    },
    {
      "cell_type": "code",
      "execution_count": null,
      "metadata": {
        "collapsed": true,
        "id": "tWH0A3or4jtY"
      },
      "outputs": [],
      "source": [
        "# test_df의 마지막 샘플의 크기가 50 이상인지를 확인\n",
        "y_mask = [len(test_df[test_df['id']==id]) >= sequence_length for id in test_df['id'].unique()]"
      ]
    },
    {
      "cell_type": "code",
      "execution_count": null,
      "metadata": {
        "colab": {
          "base_uri": "https://localhost:8080/"
        },
        "id": "8YVwblGheVhj",
        "outputId": "9b35df12-e0c0-46e8-b92c-540a7644075a"
      },
      "outputs": [
        {
          "data": {
            "text/plain": [
              "(100, 93)"
            ]
          },
          "execution_count": 58,
          "metadata": {},
          "output_type": "execute_result"
        }
      ],
      "source": [
        "len(y_mask), np.array(y_mask).sum()"
      ]
    },
    {
      "cell_type": "markdown",
      "metadata": {
        "id": "KrG7mZTK4jtY"
      },
      "source": [
        "- 회귀 레이블 얻기"
      ]
    },
    {
      "cell_type": "code",
      "execution_count": null,
      "metadata": {
        "colab": {
          "base_uri": "https://localhost:8080/"
        },
        "id": "WFu77IJyJcH_",
        "outputId": "1139d599-cc56-4fde-bf99-e5b67b4404a8"
      },
      "outputs": [
        {
          "data": {
            "text/plain": [
              "array([ 69,  82,  91,  93,  91,  95, 111,  96,  97, 124,  95,  83,  84,\n",
              "        50,  28,  87,  16,  57, 113,  20, 119,  66,  97,  90, 115,   8,\n",
              "        48, 106,   7,  11,  19,  21,  50,  28,  18,  10,  59, 109, 114,\n",
              "        47, 135,  92,  21,  79, 114,  29,  26,  97, 137,  15, 103,  37,\n",
              "       114, 100,  21,  54,  72,  28, 128,  14,  77,   8, 121,  94, 118,\n",
              "        50, 131, 126, 113,  10,  34, 107,  63,  90,   8,   9, 137,  58,\n",
              "        89, 116, 115, 136,  28,  38,  20,  85,  55, 128, 137,  82,  59,\n",
              "       117,  20])"
            ]
          },
          "execution_count": 59,
          "metadata": {},
          "output_type": "execute_result"
        }
      ],
      "source": [
        "test_df.groupby('id')['RUL'].nth(-1)[y_mask].values"
      ]
    },
    {
      "cell_type": "code",
      "execution_count": null,
      "metadata": {
        "colab": {
          "base_uri": "https://localhost:8080/"
        },
        "id": "HSJ2PBcV4jtY",
        "outputId": "50199a6d-84ff-41b7-b747-77434776a90e"
      },
      "outputs": [
        {
          "data": {
            "text/plain": [
              "(93, 1)"
            ]
          },
          "execution_count": 60,
          "metadata": {},
          "output_type": "execute_result"
        }
      ],
      "source": [
        "label_array_test_last = test_df.groupby('id')['RUL'].nth(-1)[y_mask].values\n",
        "label_array_test_last = label_array_test_last.reshape(label_array_test_last.shape[0],1).astype(np.float32)\n",
        "label_array_test_last.shape"
      ]
    },
    {
      "cell_type": "code",
      "execution_count": null,
      "metadata": {
        "colab": {
          "base_uri": "https://localhost:8080/"
        },
        "id": "4QQtBEKP4jtY",
        "outputId": "1ab85fe3-4ff1-418e-93c8-8f3b1db442f9"
      },
      "outputs": [
        {
          "name": "stdout",
          "output_type": "stream",
          "text": [
            "(93, 50, 10)\n",
            "(93, 1)\n"
          ]
        }
      ],
      "source": [
        "print(seq_array_test_last.shape)\n",
        "print(label_array_test_last.shape)"
      ]
    },
    {
      "cell_type": "code",
      "execution_count": null,
      "metadata": {
        "colab": {
          "base_uri": "https://localhost:8080/"
        },
        "id": "QrRoExoe4jtY",
        "outputId": "5d86aee2-4c75-48da-86c5-9747d3dbeaa3"
      },
      "outputs": [
        {
          "name": "stdout",
          "output_type": "stream",
          "text": [
            "3/3 - 1s - loss: 503.8076 - mae: 16.5565 - r2_keras: 0.6978 - 1s/epoch - 484ms/step\n",
            "mae= 16.556501388549805 r2= 0.6977624893188477\n"
          ]
        }
      ],
      "source": [
        "# 회귀 성능\n",
        "scores_test = model.evaluate(seq_array_test_last, label_array_test_last, verbose=2)\n",
        "print('mae=', scores_test[1], 'r2=', scores_test[2])"
      ]
    },
    {
      "cell_type": "markdown",
      "metadata": {
        "id": "xaM4CVE1mSfe"
      },
      "source": [
        "## 이진 분류 모델"
      ]
    },
    {
      "cell_type": "code",
      "execution_count": null,
      "metadata": {
        "colab": {
          "base_uri": "https://localhost:8080/"
        },
        "id": "R8kVtqvU1TgF",
        "outputId": "2c0ebe6b-d37f-490d-8d9d-c210a38a3adf"
      },
      "outputs": [
        {
          "data": {
            "text/plain": [
              "(15631, 1)"
            ]
          },
          "execution_count": 63,
          "metadata": {},
          "output_type": "execute_result"
        }
      ],
      "source": [
        "# 이진분류 레이블 얻기\n",
        "res2 = []\n",
        "label = [\"label1\"]\n",
        "for id in train_df['id'].unique():\n",
        "  res2.append(train_df[train_df['id']==id][label][n_steps:len(train_df)])\n",
        "label_array = np.concatenate(res2)\n",
        "label_array.shape"
      ]
    },
    {
      "cell_type": "code",
      "execution_count": null,
      "metadata": {
        "colab": {
          "base_uri": "https://localhost:8080/"
        },
        "id": "B6Y2LGuRVGvF",
        "outputId": "2a53ebe9-f64c-460a-85d9-b8ccdb182009"
      },
      "outputs": [
        {
          "data": {
            "text/plain": [
              "array([[0],\n",
              "       [0],\n",
              "       [0],\n",
              "       ...,\n",
              "       [1],\n",
              "       [1],\n",
              "       [1]])"
            ]
          },
          "execution_count": 64,
          "metadata": {},
          "output_type": "execute_result"
        }
      ],
      "source": [
        "label_array"
      ]
    },
    {
      "cell_type": "markdown",
      "metadata": {
        "id": "ydDGB_O54jtX"
      },
      "source": [
        "## LSTM 모델"
      ]
    },
    {
      "cell_type": "code",
      "execution_count": null,
      "metadata": {
        "collapsed": true,
        "id": "qwaScnGI4jtX"
      },
      "outputs": [],
      "source": [
        "nb_features = seq_array.shape[2]\n",
        "nb_out = label_array.shape[1]\n",
        "\n",
        "model = Sequential()\n",
        "\n",
        "model.add(LSTM(\n",
        "         input_shape=(sequence_length, nb_features),\n",
        "         units=100,\n",
        "         return_sequences=True))\n",
        "model.add(Dropout(0.2))\n",
        "\n",
        "model.add(LSTM(\n",
        "          units=50,\n",
        "          return_sequences=False))\n",
        "model.add(Dropout(0.2))\n",
        "\n",
        "model.add(Dense(units=nb_out, activation='sigmoid'))"
      ]
    },
    {
      "cell_type": "code",
      "execution_count": null,
      "metadata": {
        "colab": {
          "base_uri": "https://localhost:8080/"
        },
        "id": "Y7PfcjXd4jtX",
        "outputId": "2591140b-a73e-4c66-b464-c0b6feef0389"
      },
      "outputs": [
        {
          "name": "stdout",
          "output_type": "stream",
          "text": [
            "Model: \"sequential_1\"\n",
            "_________________________________________________________________\n",
            " Layer (type)                Output Shape              Param #   \n",
            "=================================================================\n",
            " lstm_2 (LSTM)               (None, 50, 100)           44400     \n",
            "                                                                 \n",
            " dropout_2 (Dropout)         (None, 50, 100)           0         \n",
            "                                                                 \n",
            " lstm_3 (LSTM)               (None, 50)                30200     \n",
            "                                                                 \n",
            " dropout_3 (Dropout)         (None, 50)                0         \n",
            "                                                                 \n",
            " dense_1 (Dense)             (None, 1)                 51        \n",
            "                                                                 \n",
            "=================================================================\n",
            "Total params: 74,651\n",
            "Trainable params: 74,651\n",
            "Non-trainable params: 0\n",
            "_________________________________________________________________\n",
            "None\n"
          ]
        }
      ],
      "source": [
        "print(model.summary())"
      ]
    },
    {
      "cell_type": "code",
      "execution_count": null,
      "metadata": {
        "colab": {
          "base_uri": "https://localhost:8080/"
        },
        "id": "sE0atuQlWjWv",
        "outputId": "7e38b629-9c47-4149-c942-9285e8d7a35e"
      },
      "outputs": [
        {
          "data": {
            "text/plain": [
              "((15631, 50, 10), (15631, 1))"
            ]
          },
          "execution_count": 67,
          "metadata": {},
          "output_type": "execute_result"
        }
      ],
      "source": [
        "seq_array.shape, label_array.shape"
      ]
    },
    {
      "cell_type": "code",
      "execution_count": null,
      "metadata": {
        "colab": {
          "base_uri": "https://localhost:8080/"
        },
        "id": "GJTno9tG4jtX",
        "outputId": "985b68f3-2a63-4a94-eb5b-e58786af50a7"
      },
      "outputs": [
        {
          "name": "stdout",
          "output_type": "stream",
          "text": [
            "Epoch 1/100\n",
            "75/75 [==============================] - 5s 22ms/step - loss: 0.2527 - accuracy: 0.8985 - val_loss: 0.1855 - val_accuracy: 0.9284\n",
            "Epoch 2/100\n",
            "75/75 [==============================] - 1s 11ms/step - loss: 0.0983 - accuracy: 0.9601 - val_loss: 0.0745 - val_accuracy: 0.9706\n",
            "Epoch 3/100\n",
            "75/75 [==============================] - 1s 11ms/step - loss: 0.0917 - accuracy: 0.9631 - val_loss: 0.0627 - val_accuracy: 0.9834\n",
            "Epoch 4/100\n",
            "75/75 [==============================] - 1s 11ms/step - loss: 0.0929 - accuracy: 0.9613 - val_loss: 0.0642 - val_accuracy: 0.9731\n",
            "Epoch 5/100\n",
            "75/75 [==============================] - 1s 11ms/step - loss: 0.0801 - accuracy: 0.9651 - val_loss: 0.0770 - val_accuracy: 0.9706\n",
            "Epoch 6/100\n",
            "75/75 [==============================] - 1s 11ms/step - loss: 0.0875 - accuracy: 0.9627 - val_loss: 0.0559 - val_accuracy: 0.9770\n",
            "Epoch 7/100\n",
            "75/75 [==============================] - 1s 11ms/step - loss: 0.0739 - accuracy: 0.9684 - val_loss: 0.1036 - val_accuracy: 0.9540\n",
            "Epoch 8/100\n",
            "75/75 [==============================] - 1s 11ms/step - loss: 0.0740 - accuracy: 0.9677 - val_loss: 0.0733 - val_accuracy: 0.9616\n",
            "Epoch 9/100\n",
            "75/75 [==============================] - 1s 11ms/step - loss: 0.0722 - accuracy: 0.9704 - val_loss: 0.0736 - val_accuracy: 0.9642\n",
            "Epoch 10/100\n",
            "75/75 [==============================] - 1s 11ms/step - loss: 0.0728 - accuracy: 0.9692 - val_loss: 0.0709 - val_accuracy: 0.9629\n",
            "Epoch 11/100\n",
            "75/75 [==============================] - 1s 11ms/step - loss: 0.0700 - accuracy: 0.9704 - val_loss: 0.0745 - val_accuracy: 0.9616\n",
            "Epoch 12/100\n",
            "75/75 [==============================] - 1s 11ms/step - loss: 0.0668 - accuracy: 0.9710 - val_loss: 0.0674 - val_accuracy: 0.9655\n",
            "Epoch 13/100\n",
            "75/75 [==============================] - 1s 11ms/step - loss: 0.0728 - accuracy: 0.9701 - val_loss: 0.0871 - val_accuracy: 0.9565\n",
            "CPU times: user 15.7 s, sys: 911 ms, total: 16.7 s\n",
            "Wall time: 15.1 s\n"
          ]
        },
        {
          "data": {
            "text/plain": [
              "<keras.callbacks.History at 0x7f5e5e2b8f50>"
            ]
          },
          "execution_count": 68,
          "metadata": {},
          "output_type": "execute_result"
        }
      ],
      "source": [
        "%%time\n",
        "# fit the network\n",
        "model.compile(loss='binary_crossentropy', optimizer='adam', metrics=['accuracy'])\n",
        "model.fit(seq_array, label_array, epochs=100, batch_size=200, validation_split=0.05, verbose=1,\n",
        "          callbacks = [keras.callbacks.EarlyStopping(monitor='val_loss', patience=7, verbose=0, mode='auto')])"
      ]
    },
    {
      "cell_type": "code",
      "execution_count": null,
      "metadata": {
        "colab": {
          "base_uri": "https://localhost:8080/"
        },
        "id": "rIIYtlYCa8z0",
        "outputId": "1aef2f06-e5a3-4a9f-ab24-5865346168ee"
      },
      "outputs": [
        {
          "data": {
            "text/plain": [
              "(93, 1)"
            ]
          },
          "execution_count": 69,
          "metadata": {},
          "output_type": "execute_result"
        }
      ],
      "source": [
        "label_array_test_last = test_df.groupby('id')['label1'].nth(-1)[y_mask].values\n",
        "label_array_test_last = label_array_test_last.reshape(label_array_test_last.shape[0],1)\n",
        "label_array_test_last.shape"
      ]
    },
    {
      "cell_type": "code",
      "execution_count": null,
      "metadata": {
        "colab": {
          "base_uri": "https://localhost:8080/"
        },
        "collapsed": true,
        "id": "C4WZhtvv4jtX",
        "outputId": "02fcbf01-de3e-495c-e1b2-a80ceed96ad0"
      },
      "outputs": [
        {
          "name": "stdout",
          "output_type": "stream",
          "text": [
            "3/3 [==============================] - 1s 8ms/step\n",
            "[[67  1]\n",
            " [ 2 23]]\n",
            "              precision    recall  f1-score   support\n",
            "\n",
            "           0       0.97      0.99      0.98        68\n",
            "           1       0.96      0.92      0.94        25\n",
            "\n",
            "    accuracy                           0.97        93\n",
            "   macro avg       0.96      0.95      0.96        93\n",
            "weighted avg       0.97      0.97      0.97        93\n",
            "\n"
          ]
        }
      ],
      "source": [
        "# 이진 분류 확률을 얻는다\n",
        "y_pred_test = model.predict(seq_array_test_last)\n",
        "show_clf_result(label_array_test_last, y_pred_test>0.5)"
      ]
    },
    {
      "cell_type": "code",
      "execution_count": null,
      "metadata": {
        "colab": {
          "base_uri": "https://localhost:8080/"
        },
        "id": "P4srGcJ2dFOM",
        "outputId": "9d67e36f-c047-45ea-8cf0-267f2c4cd14c"
      },
      "outputs": [
        {
          "data": {
            "text/plain": [
              "array([[0.008],\n",
              "       [0.   ],\n",
              "       [0.   ],\n",
              "       [0.   ],\n",
              "       [0.   ],\n",
              "       [0.001],\n",
              "       [0.   ],\n",
              "       [0.   ],\n",
              "       [0.   ],\n",
              "       [0.   ],\n",
              "       [0.   ],\n",
              "       [0.   ],\n",
              "       [0.   ],\n",
              "       [0.008],\n",
              "       [0.226],\n",
              "       [0.   ],\n",
              "       [0.996],\n",
              "       [0.   ],\n",
              "       [0.   ],\n",
              "       [0.974],\n",
              "       [0.   ],\n",
              "       [0.001],\n",
              "       [0.   ],\n",
              "       [0.   ],\n",
              "       [0.   ],\n",
              "       [1.   ],\n",
              "       [0.004],\n",
              "       [0.   ],\n",
              "       [1.   ],\n",
              "       [0.999],\n",
              "       [0.959],\n",
              "       [0.515],\n",
              "       [0.007],\n",
              "       [0.656],\n",
              "       [0.717],\n",
              "       [0.998],\n",
              "       [0.001],\n",
              "       [0.   ],\n",
              "       [0.001],\n",
              "       [0.054],\n",
              "       [0.   ],\n",
              "       [0.   ],\n",
              "       [0.993],\n",
              "       [0.   ],\n",
              "       [0.   ],\n",
              "       [0.425],\n",
              "       [0.693],\n",
              "       [0.   ],\n",
              "       [0.   ],\n",
              "       [0.997],\n",
              "       [0.   ],\n",
              "       [0.131],\n",
              "       [0.   ],\n",
              "       [0.   ],\n",
              "       [0.901],\n",
              "       [0.011],\n",
              "       [0.001],\n",
              "       [0.833],\n",
              "       [0.   ],\n",
              "       [0.979],\n",
              "       [0.   ],\n",
              "       [1.   ],\n",
              "       [0.   ],\n",
              "       [0.   ],\n",
              "       [0.   ],\n",
              "       [0.001],\n",
              "       [0.   ],\n",
              "       [0.   ],\n",
              "       [0.   ],\n",
              "       [0.999],\n",
              "       [0.214],\n",
              "       [0.   ],\n",
              "       [0.   ],\n",
              "       [0.   ],\n",
              "       [0.999],\n",
              "       [0.999],\n",
              "       [0.   ],\n",
              "       [0.004],\n",
              "       [0.   ],\n",
              "       [0.   ],\n",
              "       [0.   ],\n",
              "       [0.   ],\n",
              "       [0.778],\n",
              "       [0.941],\n",
              "       [0.891],\n",
              "       [0.448],\n",
              "       [0.003],\n",
              "       [0.   ],\n",
              "       [0.   ],\n",
              "       [0.   ],\n",
              "       [0.001],\n",
              "       [0.   ],\n",
              "       [0.98 ]], dtype=float32)"
            ]
          },
          "execution_count": 71,
          "metadata": {},
          "output_type": "execute_result"
        }
      ],
      "source": [
        "y_pred_test.round(3)"
      ]
    },
    {
      "cell_type": "code",
      "execution_count": null,
      "metadata": {
        "colab": {
          "base_uri": "https://localhost:8080/"
        },
        "id": "jSlUiCzwYnix",
        "outputId": "28650249-2ef2-48e0-940c-b27265a3314f"
      },
      "outputs": [
        {
          "data": {
            "text/plain": [
              "(8162, 1)"
            ]
          },
          "execution_count": 72,
          "metadata": {},
          "output_type": "execute_result"
        }
      ],
      "source": [
        "# 테스트 데이터 이진분류 레이블 얻기\n",
        "res3 = []\n",
        "label = [\"label1\"]\n",
        "for id in test_df['id'].unique():\n",
        "  res3.append(test_df[test_df['id']==id][label][n_steps:len(test_df)])\n",
        "label_test_array = np.concatenate(res3)\n",
        "label_test_array.shape"
      ]
    }
  ],
  "metadata": {
    "accelerator": "GPU",
    "anaconda-cloud": {},
    "colab": {
      "provenance": []
    },
    "gpuClass": "standard",
    "kernelspec": {
      "display_name": "Python 3",
      "language": "python",
      "name": "python3"
    },
    "language_info": {
      "codemirror_mode": {
        "name": "ipython",
        "version": 3
      },
      "file_extension": ".py",
      "mimetype": "text/x-python",
      "name": "python",
      "nbconvert_exporter": "python",
      "pygments_lexer": "ipython3",
      "version": "3.8.8"
    },
    "toc": {
      "base_numbering": 1,
      "nav_menu": {},
      "number_sections": false,
      "sideBar": true,
      "skip_h1_title": false,
      "title_cell": "Table of Contents",
      "title_sidebar": "Contents",
      "toc_cell": false,
      "toc_position": {},
      "toc_section_display": true,
      "toc_window_display": false
    }
  },
  "nbformat": 4,
  "nbformat_minor": 0
}