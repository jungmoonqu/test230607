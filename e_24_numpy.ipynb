{
  "cells": [
    {
      "cell_type": "markdown",
      "metadata": {
        "collapsed": true,
        "id": "LbOwvOJ58Gz3"
      },
      "source": [
        "# numpy\n",
        "- 데이터프레임은 테이블 구조의 데이터를 편리하게 조작하기 위해서 사용한다\n",
        "- 숫자만으로 구성된 데이터를 대상으로 \"연산\"을 하기 위해서는 배열 (array) 형태여야  한다\n",
        "- 이를 위해 넘파이 라이브러리를 사용한다\n",
        " - 다 차원 배열 ndarray(n-dimensional array)를 다룬다"
      ]
    },
    {
      "cell_type": "markdown",
      "metadata": {
        "id": "8mIeMf6eO_rY"
      },
      "source": [
        "## 리스트/데이터프레임과 배열의 차이\n",
        "- 리스트는 데이터를 \"목록\"으로 만들거나 조작하는 용도 (추가, 삭제, 변형 등)\n",
        "- 데이터프레임은 2차원 테이블 구조의 데이터를 만들고, 조작하는 용도\n",
        "- 배열은 연산을 위해, 숫자만으로 구성된, 수학의 매트릭스와 같은 용도"
      ]
    },
    {
      "cell_type": "markdown",
      "metadata": {
        "id": "1u1ITvjnO_rZ"
      },
      "source": [
        "# 한글 설치"
      ]
    },
    {
      "cell_type": "markdown",
      "metadata": {
        "id": "Z98yMclhO_rZ"
      },
      "source": [
        "## 코랩에 한글 폰트 설치\n",
        "- (주의!) 아래 셀을 실행 후에, 런타임 - 런타임 다시 시작을 수행해야 한다\n",
        " - 코랩은 리눅스 머신이면 한글이 미리 설치되어 있지 않다\n",
        " - 한글이 이미 설치된 PC에서는 아래 셀을 실행할 필요없다"
      ]
    },
    {
      "cell_type": "code",
      "execution_count": null,
      "metadata": {
        "id": "hCRGv0ToO_ra",
        "outputId": "9334bfc4-d2d1-4467-f993-7442c24c9b1e",
        "colab": {
          "base_uri": "https://localhost:8080/"
        }
      },
      "outputs": [
        {
          "output_type": "stream",
          "name": "stdout",
          "text": [
            "The following NEW packages will be installed:\n",
            "  fonts-nanum\n",
            "0 upgraded, 1 newly installed, 0 to remove and 38 not upgraded.\n",
            "Need to get 9,599 kB of archives.\n",
            "After this operation, 29.6 MB of additional disk space will be used.\n"
          ]
        }
      ],
      "source": [
        "# # colab을 사용하는 경우만 이 셀을 실행하며, 실행 후 런타임 - 런타임 다시 시작 을 수행해야 한다\n",
        "# # 한글이 설치된 PC에서는 이 셀을 실행할 필요 없음\n",
        "import matplotlib.pyplot as plt\n",
        "import matplotlib.font_manager as fm\n",
        " \n",
        "!apt -qq -y install fonts-nanum\n",
        "fm._rebuild() \n",
        "plt.rc('font', family='NanumBarunGothic') "
      ]
    },
    {
      "cell_type": "markdown",
      "metadata": {
        "id": "jPLy7apOO_rc"
      },
      "source": [
        "## 한글 사용 설정\n",
        "- 그림에 한글이 보이게 하기 위해서 한글 사용을 설정한다.\n",
        "- 운영체제마다 명령이 다르다"
      ]
    },
    {
      "cell_type": "code",
      "execution_count": null,
      "metadata": {
        "id": "Y0CR3jPZO_rc"
      },
      "outputs": [],
      "source": [
        "import platform, matplotlib\n",
        "from matplotlib import rc\n",
        "\n",
        "# '-' 기호 제대로 보이기\n",
        "matplotlib.rcParams['axes.unicode_minus'] = False\n",
        "\n",
        "# 윈도우\n",
        "if platform.system() == 'Windows':\n",
        "    rc('font', family=\"Malgun Gothic\")\n",
        "# 맥\n",
        "elif platform.system() == 'Darwin':\n",
        "    rc('font', family='AppleGothic')\n",
        "# 리눅스\n",
        "elif platform.system() == 'Linux':\n",
        "    rc('font', family='NanumBarunGothic')"
      ]
    },
    {
      "cell_type": "markdown",
      "metadata": {
        "id": "tf_H1ISSO_rc"
      },
      "source": [
        "### 한글이 그래프에 보이는지 확인\n",
        "- 아래 코드를 실행하고 x, y 축 이름에 한글이 보이는지 확인한다\n",
        "- 아래는 matplotlib 패키지의 pyplot 모듈이 제공하는 scatter() 함수를 이용했다\n",
        "- 5명 학생의 임의의 점수를 산포도로 그리는 예"
      ]
    },
    {
      "cell_type": "code",
      "execution_count": null,
      "metadata": {
        "id": "pabKxKZhO_rd",
        "outputId": "02731d19-cb44-4ab9-f1ea-6649cd1f2bb8"
      },
      "outputs": [
        {
          "data": {
            "text/plain": [
              "Text(0, 0.5, '점수')"
            ]
          },
          "execution_count": 3,
          "metadata": {},
          "output_type": "execute_result"
        },
        {
          "data": {
            "image/png": "[encoded data removed]",
            "text/plain": [
              "<Figure size 432x288 with 1 Axes>"
            ]
          },
          "metadata": {
            "image/png": {
              "height": 261,
              "width": 383
            },
            "needs_background": "light"
          },
          "output_type": "display_data"
        }
      ],
      "source": [
        "import matplotlib.pyplot as plt\n",
        "# 맥 컴퓨터를 사용하는 경우 레티나(고화질)로 출력하는 옵션\n",
        "%config InlineBackend.figure_format = 'retina'\n",
        "\n",
        "plt.scatter([1,2,3,4,5], [70,60,50,90,30])\n",
        "plt.xlabel('학생')\n",
        "plt.ylabel('점수')"
      ]
    },
    {
      "cell_type": "markdown",
      "metadata": {
        "id": "a0t_o9BgO_re"
      },
      "source": [
        "## import\n"
      ]
    },
    {
      "cell_type": "code",
      "execution_count": null,
      "metadata": {
        "id": "jmQEHVH1O_rf"
      },
      "outputs": [],
      "source": [
        "import pandas as pd"
      ]
    },
    {
      "cell_type": "markdown",
      "metadata": {
        "id": "Fuj4tE9ZO_rf"
      },
      "source": [
        "# 리스트와 어레이"
      ]
    },
    {
      "cell_type": "markdown",
      "metadata": {
        "id": "FIFyatIFO_rf"
      },
      "source": [
        "## 리스트 조작"
      ]
    },
    {
      "cell_type": "code",
      "execution_count": null,
      "metadata": {
        "id": "tJFSKtuq8Gz_",
        "outputId": "122560e0-52d6-497f-dc54-77624320f483"
      },
      "outputs": [
        {
          "name": "stdout",
          "output_type": "stream",
          "text": [
            "[1, 2, 5, 10, 1, 2, 5, 10, 1, 2, 5, 10]\n",
            "[ 3  6 15 30]\n"
          ]
        }
      ],
      "source": [
        "## 리스트의 복제(*)와 어레이의 곱셈 비교\n",
        "\n",
        "import numpy as np\n",
        "\n",
        "x = [1, 2, 5,10]  # 리스트 생성\n",
        "print(x*3)\n",
        "\n",
        "y = np.array(x) # 리스트를 어레이로 변환\n",
        "print(y*3)"
      ]
    },
    {
      "cell_type": "code",
      "execution_count": null,
      "metadata": {
        "id": "1QzbXJoxO_rg",
        "outputId": "16c127c1-73d1-4ed2-97e0-2b15f0c75ec6"
      },
      "outputs": [
        {
          "name": "stdout",
          "output_type": "stream",
          "text": [
            "[1, 2, 5, 10]\n",
            "<class 'numpy.ndarray'>\n",
            "<class 'list'>\n"
          ]
        }
      ],
      "source": [
        "## 어레이를 리스트로 바꾸고 타입 확인하기\n",
        "\n",
        "z = list(y)     # 어레이를 리스트로 타입을 바꾼다\n",
        "print(z)        # [1, 2, 5, 10]\n",
        "print(type(y))  # class 'numpy.ndarray'>\n",
        "print(type(z))  # <class 'list'>"
      ]
    },
    {
      "cell_type": "code",
      "execution_count": null,
      "metadata": {
        "id": "j0JlVn6FO_rh",
        "outputId": "9d7fc400-8d3b-4fbd-8661-99fc6f9b7ecc"
      },
      "outputs": [
        {
          "name": "stdout",
          "output_type": "stream",
          "text": [
            "[ 11  12 103 104]\n",
            "[ -9  -8 -97 -96]\n",
            "[ 10  20 300 400]\n",
            "[0.1  0.2  0.03 0.04]\n"
          ]
        }
      ],
      "source": [
        "## 어레이의 연산은 각 항목별로 수행된다\n",
        "\n",
        "y1 = np.array([1, 2, 3, 4])\n",
        "y2 = np.array([10, 10, 100, 100])\n",
        "\n",
        "print(y1 + y2)  # [ 11  12 103 104]\n",
        "print(y1 - y2)  # [ -9  -8 -97 -96]\n",
        "print(y1 * y2)  # [ 10  20 300 400]\n",
        "print(y1 / y2)  # [0.1  0.2  0.03 0.04]"
      ]
    },
    {
      "cell_type": "code",
      "execution_count": null,
      "metadata": {
        "id": "XnmuC3hjO_rh",
        "outputId": "87e71ed9-8cac-4656-d269-81168584ff8b"
      },
      "outputs": [
        {
          "name": "stdout",
          "output_type": "stream",
          "text": [
            "[1001 1002 1003 1004]\n",
            "[-999 -998 -997 -996]\n",
            "[1000 2000 3000 4000]\n",
            "[0.001 0.002 0.003 0.004]\n"
          ]
        }
      ],
      "source": [
        "## 어레이에 단변수의 연산을 수행하기\n",
        "\n",
        "y1 = np.array([1, 2, 3, 4])\n",
        "a = 1000\n",
        "\n",
        "print(y1 + a)  # [1001 1002 1003 1004]\n",
        "print(y1 - a)  # [-999 -998 -997 -996]\n",
        "print(y1 * a)  # [1000 2000 3000 4000]\n",
        "print(y1 / a)  # [0.001 0.002 0.003 0.004]"
      ]
    },
    {
      "cell_type": "code",
      "execution_count": null,
      "metadata": {
        "id": "mS0lPn3AO_ri",
        "outputId": "7ed3d189-ee96-434f-8af4-bbf4016d4dd0"
      },
      "outputs": [
        {
          "data": {
            "text/plain": [
              "[1, 2, 3, 4, 10, 10, 100, 100]"
            ]
          },
          "execution_count": 11,
          "metadata": {},
          "output_type": "execute_result"
        }
      ],
      "source": [
        "## 리스트에 대한 + 수행은 두 리스트를 합친다\n",
        "\n",
        "y1 = np.array([1, 2, 3, 4])\n",
        "y2 = np.array([10, 10, 100, 100])\n",
        "\n",
        "list(y1)+list(y2) # [1, 2, 3, 4, 10, 10, 100, 100]"
      ]
    },
    {
      "cell_type": "markdown",
      "metadata": {
        "id": "FhukcDqdO_ri"
      },
      "source": [
        "## arange\n",
        "- range 타입의 \"범위\" 데이터를 생성한 후 이를 배열로 만든다"
      ]
    },
    {
      "cell_type": "code",
      "execution_count": null,
      "metadata": {
        "id": "fl4emopM8G0n",
        "outputId": "c95b26c9-a733-40a7-9601-0ffb41e160c8"
      },
      "outputs": [
        {
          "name": "stdout",
          "output_type": "stream",
          "text": [
            "[0 1 2 3 4 5]\n",
            "[1 2 3 4 5 6]\n",
            "[ 1  4  7 10 13 16 19]\n",
            "[1.1 1.6 2.1 2.6 3.1 3.6]\n"
          ]
        }
      ],
      "source": [
        "# 일정한 간격의 수로 구성된 어레이를 얻는다\n",
        "\n",
        "print(np.arange(6))      # [0 1 2 3 4 5]\n",
        "print(np.arange(1,7))    # [1 2 3 4 5 6]\n",
        "print(np.arange(1,20,3)) # [ 1  4  7 10 13 16 19]\n",
        "print(np.arange(1.1,4,0.5))# [1.1 1.6 2.1 2.6 3.1 3.6]"
      ]
    },
    {
      "cell_type": "markdown",
      "metadata": {
        "id": "7hsttfitO_rj"
      },
      "source": [
        "## 데이터프레임과 어레이\n",
        "- 기본적으로 행단로 추출하며 마치 행 번호를 인덱스인 것처럼 사용"
      ]
    },
    {
      "cell_type": "code",
      "execution_count": null,
      "metadata": {
        "id": "bwbOX0hlO_rj",
        "outputId": "f70c90c0-ac19-43a4-c11d-c30cc73304ca"
      },
      "outputs": [
        {
          "data": {
            "text/html": [
              "<div>\n",
              "<style scoped>\n",
              "    .dataframe tbody tr th:only-of-type {\n",
              "        vertical-align: middle;\n",
              "    }\n",
              "\n",
              "    .dataframe tbody tr th {\n",
              "        vertical-align: top;\n",
              "    }\n",
              "\n",
              "    .dataframe thead th {\n",
              "        text-align: right;\n",
              "    }\n",
              "</style>\n",
              "<table border=\"1\" class=\"dataframe\">\n",
              "  <thead>\n",
              "    <tr style=\"text-align: right;\">\n",
              "      <th></th>\n",
              "      <th>population</th>\n",
              "      <th>temp</th>\n",
              "      <th>cars</th>\n",
              "    </tr>\n",
              "    <tr>\n",
              "      <th>city</th>\n",
              "      <th></th>\n",
              "      <th></th>\n",
              "      <th></th>\n",
              "    </tr>\n",
              "  </thead>\n",
              "  <tbody>\n",
              "    <tr>\n",
              "      <th>서울</th>\n",
              "      <td>990</td>\n",
              "      <td>13</td>\n",
              "      <td>300</td>\n",
              "    </tr>\n",
              "    <tr>\n",
              "      <th>부산</th>\n",
              "      <td>350</td>\n",
              "      <td>16</td>\n",
              "      <td>120</td>\n",
              "    </tr>\n",
              "    <tr>\n",
              "      <th>대구</th>\n",
              "      <td>250</td>\n",
              "      <td>14</td>\n",
              "      <td>80</td>\n",
              "    </tr>\n",
              "    <tr>\n",
              "      <th>대전</th>\n",
              "      <td>154</td>\n",
              "      <td>13</td>\n",
              "      <td>90</td>\n",
              "    </tr>\n",
              "    <tr>\n",
              "      <th>광주</th>\n",
              "      <td>150</td>\n",
              "      <td>15</td>\n",
              "      <td>70</td>\n",
              "    </tr>\n",
              "  </tbody>\n",
              "</table>\n",
              "</div>"
            ],
            "text/plain": [
              "      population  temp  cars\n",
              "city                        \n",
              "서울           990    13   300\n",
              "부산           350    16   120\n",
              "대구           250    14    80\n",
              "대전           154    13    90\n",
              "광주           150    15    70"
            ]
          },
          "execution_count": 13,
          "metadata": {},
          "output_type": "execute_result"
        }
      ],
      "source": [
        "## 임의의 도시정보 데이터프레임을 만드는 예\n",
        "\n",
        "import pandas as pd\n",
        "\n",
        "x = {'city': ['서울', '부산', '대구', '대전', '광주'],\n",
        "     'population': [990, 350, 250, 154, 150],\n",
        "     'temp': [13, 16, 14, 13, 15],\n",
        "     'cars': [300, 120, 80, 90, 70]}\n",
        "\n",
        "df = pd.DataFrame(x)\n",
        "df.set_index(\"city\", inplace=True)\n",
        "df"
      ]
    },
    {
      "cell_type": "code",
      "execution_count": null,
      "metadata": {
        "id": "Od91b1JGO_rj",
        "outputId": "bde7770f-1501-4642-ad7a-e09175bd38a9"
      },
      "outputs": [
        {
          "name": "stdout",
          "output_type": "stream",
          "text": [
            "(5, 3)\n"
          ]
        },
        {
          "data": {
            "text/plain": [
              "array([[990,  13, 300],\n",
              "       [350,  16, 120],\n",
              "       [250,  14,  80],\n",
              "       [154,  13,  90],\n",
              "       [150,  15,  70]])"
            ]
          },
          "execution_count": 14,
          "metadata": {},
          "output_type": "execute_result"
        }
      ],
      "source": [
        "## 데이터프레임을 어레이로 바꾸는 방법\n",
        "\n",
        "z = df.values\n",
        "print(z.shape)\n",
        "z"
      ]
    },
    {
      "cell_type": "code",
      "execution_count": null,
      "metadata": {
        "id": "wx36aBl0O_rl",
        "outputId": "f14a5e41-5226-452d-dcf8-e217502e7f48"
      },
      "outputs": [
        {
          "data": {
            "text/plain": [
              "['서울', '부산', '대구', '대전', '광주']"
            ]
          },
          "execution_count": 15,
          "metadata": {},
          "output_type": "execute_result"
        }
      ],
      "source": [
        "list(df.columns)  # 결과: ['population', 'temp', 'cars']\n",
        "list(df.index) # 결과: ['서울', '부산', '대구', '대전', '광주']"
      ]
    },
    {
      "cell_type": "code",
      "execution_count": null,
      "metadata": {
        "id": "AMoHSZCBO_rn",
        "outputId": "e5960af2-7f42-446d-f549-1222e5210e19"
      },
      "outputs": [
        {
          "data": {
            "text/html": [
              "<div>\n",
              "<style scoped>\n",
              "    .dataframe tbody tr th:only-of-type {\n",
              "        vertical-align: middle;\n",
              "    }\n",
              "\n",
              "    .dataframe tbody tr th {\n",
              "        vertical-align: top;\n",
              "    }\n",
              "\n",
              "    .dataframe thead th {\n",
              "        text-align: right;\n",
              "    }\n",
              "</style>\n",
              "<table border=\"1\" class=\"dataframe\">\n",
              "  <thead>\n",
              "    <tr style=\"text-align: right;\">\n",
              "      <th></th>\n",
              "      <th>0</th>\n",
              "      <th>1</th>\n",
              "      <th>2</th>\n",
              "    </tr>\n",
              "  </thead>\n",
              "  <tbody>\n",
              "    <tr>\n",
              "      <th>0</th>\n",
              "      <td>990</td>\n",
              "      <td>13</td>\n",
              "      <td>300</td>\n",
              "    </tr>\n",
              "    <tr>\n",
              "      <th>1</th>\n",
              "      <td>350</td>\n",
              "      <td>16</td>\n",
              "      <td>120</td>\n",
              "    </tr>\n",
              "    <tr>\n",
              "      <th>2</th>\n",
              "      <td>250</td>\n",
              "      <td>14</td>\n",
              "      <td>80</td>\n",
              "    </tr>\n",
              "    <tr>\n",
              "      <th>3</th>\n",
              "      <td>154</td>\n",
              "      <td>13</td>\n",
              "      <td>90</td>\n",
              "    </tr>\n",
              "    <tr>\n",
              "      <th>4</th>\n",
              "      <td>150</td>\n",
              "      <td>15</td>\n",
              "      <td>70</td>\n",
              "    </tr>\n",
              "  </tbody>\n",
              "</table>\n",
              "</div>"
            ],
            "text/plain": [
              "     0   1    2\n",
              "0  990  13  300\n",
              "1  350  16  120\n",
              "2  250  14   80\n",
              "3  154  13   90\n",
              "4  150  15   70"
            ]
          },
          "execution_count": 14,
          "metadata": {},
          "output_type": "execute_result"
        }
      ],
      "source": [
        "## 어레이는 바로 데이터프레임으로 바꿀 수 있다.\n",
        "\n",
        "df2 = pd.DataFrame(z)\n",
        "df2"
      ]
    },
    {
      "cell_type": "code",
      "execution_count": null,
      "metadata": {
        "id": "YXTcrW_wO_rn",
        "outputId": "280b9de3-5fa9-4135-dce5-6cba645b1e40"
      },
      "outputs": [
        {
          "data": {
            "text/html": [
              "<div>\n",
              "<style scoped>\n",
              "    .dataframe tbody tr th:only-of-type {\n",
              "        vertical-align: middle;\n",
              "    }\n",
              "\n",
              "    .dataframe tbody tr th {\n",
              "        vertical-align: top;\n",
              "    }\n",
              "\n",
              "    .dataframe thead th {\n",
              "        text-align: right;\n",
              "    }\n",
              "</style>\n",
              "<table border=\"1\" class=\"dataframe\">\n",
              "  <thead>\n",
              "    <tr style=\"text-align: right;\">\n",
              "      <th></th>\n",
              "      <th>population</th>\n",
              "      <th>temp</th>\n",
              "      <th>cars</th>\n",
              "    </tr>\n",
              "    <tr>\n",
              "      <th>city</th>\n",
              "      <th></th>\n",
              "      <th></th>\n",
              "      <th></th>\n",
              "    </tr>\n",
              "  </thead>\n",
              "  <tbody>\n",
              "    <tr>\n",
              "      <th>서울</th>\n",
              "      <td>990</td>\n",
              "      <td>13</td>\n",
              "      <td>300</td>\n",
              "    </tr>\n",
              "    <tr>\n",
              "      <th>부산</th>\n",
              "      <td>350</td>\n",
              "      <td>16</td>\n",
              "      <td>120</td>\n",
              "    </tr>\n",
              "    <tr>\n",
              "      <th>대구</th>\n",
              "      <td>250</td>\n",
              "      <td>14</td>\n",
              "      <td>80</td>\n",
              "    </tr>\n",
              "    <tr>\n",
              "      <th>대전</th>\n",
              "      <td>154</td>\n",
              "      <td>13</td>\n",
              "      <td>90</td>\n",
              "    </tr>\n",
              "    <tr>\n",
              "      <th>광주</th>\n",
              "      <td>150</td>\n",
              "      <td>15</td>\n",
              "      <td>70</td>\n",
              "    </tr>\n",
              "  </tbody>\n",
              "</table>\n",
              "</div>"
            ],
            "text/plain": [
              "      population  temp  cars\n",
              "city                        \n",
              "서울           990    13   300\n",
              "부산           350    16   120\n",
              "대구           250    14    80\n",
              "대전           154    13    90\n",
              "광주           150    15    70"
            ]
          },
          "execution_count": 15,
          "metadata": {},
          "output_type": "execute_result"
        }
      ],
      "source": [
        "## 데이터프레임을 만들면서 인덱스와 컬럼명을 지정\n",
        "\n",
        "df2 = pd.DataFrame(z, index=df.index, columns=df.columns)\n",
        "df2"
      ]
    },
    {
      "cell_type": "code",
      "execution_count": null,
      "metadata": {
        "id": "4bHnpd8EO_ro",
        "outputId": "8d163a91-3822-4156-a3f0-a1ae59bdf6e1"
      },
      "outputs": [
        {
          "data": {
            "text/plain": [
              "array([[990,  13, 300],\n",
              "       [350,  16, 120],\n",
              "       [250,  14,  80]])"
            ]
          },
          "execution_count": 16,
          "metadata": {},
          "output_type": "execute_result"
        }
      ],
      "source": [
        "## 어레이의 0~3 사이의 행을 얻기\n",
        "\n",
        "z[:3]"
      ]
    },
    {
      "cell_type": "code",
      "execution_count": null,
      "metadata": {
        "id": "QCEcsRxhO_ro",
        "outputId": "cce26939-fe67-42fe-d67d-a7ede4539eb9"
      },
      "outputs": [
        {
          "data": {
            "text/plain": [
              "array([[990, 300],\n",
              "       [350, 120],\n",
              "       [250,  80],\n",
              "       [154,  90],\n",
              "       [150,  70]])"
            ]
          },
          "execution_count": 17,
          "metadata": {},
          "output_type": "execute_result"
        }
      ],
      "source": [
        "## 모든 행에 대해서, 컬럼 0과 2만 얻기\n",
        "\n",
        "z[:,[0,2]]"
      ]
    },
    {
      "cell_type": "code",
      "execution_count": null,
      "metadata": {
        "id": "W1eRf44XO_ro",
        "outputId": "3eb419cf-5b25-4517-eef0-c88f47ecdebf"
      },
      "outputs": [
        {
          "data": {
            "text/plain": [
              "(array([[ 0,  1,  2],\n",
              "        [ 3,  4,  5],\n",
              "        [ 6,  7,  8],\n",
              "        [ 9, 10, 11]]),\n",
              " array([[100, 101, 102],\n",
              "        [103, 104, 105],\n",
              "        [106, 107, 108],\n",
              "        [109, 110, 111]]))"
            ]
          },
          "execution_count": 16,
          "metadata": {},
          "output_type": "execute_result"
        }
      ],
      "source": [
        "## 임의의 어레이 두개 생성\n",
        "\n",
        "x1 = np.arange(0,12).reshape(4,3)\n",
        "x2 = np.arange(100,112).reshape(4,3)\n",
        "\n",
        "x1, x2"
      ]
    },
    {
      "cell_type": "code",
      "execution_count": null,
      "metadata": {
        "id": "H0rOsnDQO_rp",
        "outputId": "0185d5fc-3f9c-4691-8e21-f674449311bb"
      },
      "outputs": [
        {
          "data": {
            "text/plain": [
              "array([[  0,   1,   2],\n",
              "       [  3,   4,   5],\n",
              "       [  6,   7,   8],\n",
              "       [  9,  10,  11],\n",
              "       [100, 101, 102],\n",
              "       [103, 104, 105],\n",
              "       [106, 107, 108],\n",
              "       [109, 110, 111]])"
            ]
          },
          "execution_count": 19,
          "metadata": {},
          "output_type": "execute_result"
        }
      ],
      "source": [
        "## 디폴트는 행 방향 (세로 방향)으로 붙인다\n",
        "\n",
        "x3 = np.concatenate((x1, x2))\n",
        "x3\n"
      ]
    },
    {
      "cell_type": "code",
      "execution_count": null,
      "metadata": {
        "id": "GPFytH9LO_rp",
        "outputId": "3e20edcf-d7ad-484d-ff53-d7be55813114"
      },
      "outputs": [
        {
          "data": {
            "text/plain": [
              "array([[  0,   1,   2, 100, 101, 102],\n",
              "       [  3,   4,   5, 103, 104, 105],\n",
              "       [  6,   7,   8, 106, 107, 108],\n",
              "       [  9,  10,  11, 109, 110, 111]])"
            ]
          },
          "execution_count": 20,
          "metadata": {},
          "output_type": "execute_result"
        }
      ],
      "source": [
        "## 컬럼 방향으로 붙이기 (axis=1)\n",
        "\n",
        "x3 = np.concatenate((x1, x2), axis=1)\n",
        "x3"
      ]
    },
    {
      "cell_type": "code",
      "execution_count": null,
      "metadata": {
        "id": "notmNzeFO_rp",
        "outputId": "9b800651-38f9-4937-889a-1c87f55bd3ea"
      },
      "outputs": [
        {
          "name": "stdout",
          "output_type": "stream",
          "text": [
            "[[ 0  1  2  3  4  5  6  7]\n",
            " [ 8  9 10 11 12 13 14 15]\n",
            " [16 17 18 19 20 21 22 23]\n",
            " [24 25 26 27 28 29 30 31]\n",
            " [32 33 34 35 36 37 38 39]\n",
            " [40 41 42 43 44 45 46 47]]\n",
            "0,1,2,3,4,5,6,7\n",
            "8,9,10,11,12,13,14,15\n",
            "16,17,18,19,20,21,22,23\n",
            "24,25,26,27,28,29,30,31\n",
            "32,33,34,35,36,37,38,39\n",
            "40,41,42,43,44,45,46,47\n",
            "\n"
          ]
        }
      ],
      "source": [
        "## 어레이를 csv 파일로 저장한 후 파일 읽기\n",
        "\n",
        "x = np.arange(48).reshape(6,8)\n",
        "print(x)\n",
        "np.savetxt('big.csv', x, fmt='%d', delimiter=',')\n",
        "\n",
        "with open('big.csv') as f: \n",
        "    print(f.read())"
      ]
    },
    {
      "cell_type": "code",
      "execution_count": null,
      "metadata": {
        "id": "6o1Yo6TrO_rp",
        "outputId": "2a7462d4-1661-4a23-9552-3d9e1c587d26"
      },
      "outputs": [
        {
          "data": {
            "text/plain": [
              "array([[ 0.,  1.,  2.,  3.,  4.,  5.,  6.,  7.],\n",
              "       [ 8.,  9., 10., 11., 12., 13., 14., 15.],\n",
              "       [16., 17., 18., 19., 20., 21., 22., 23.],\n",
              "       [24., 25., 26., 27., 28., 29., 30., 31.],\n",
              "       [32., 33., 34., 35., 36., 37., 38., 39.],\n",
              "       [40., 41., 42., 43., 44., 45., 46., 47.]])"
            ]
          },
          "execution_count": 22,
          "metadata": {},
          "output_type": "execute_result"
        }
      ],
      "source": [
        "## csv 파일의 내용을 어레이로 바로 읽기\n",
        "\n",
        "y = np.loadtxt('big.csv', delimiter=',')\n",
        "y"
      ]
    }
  ],
  "metadata": {
    "colab": {
      "name": "g_02_numpy.ipynb",
      "provenance": []
    },
    "kernelspec": {
      "display_name": "Python 3",
      "language": "python",
      "name": "python3"
    },
    "language_info": {
      "codemirror_mode": {
        "name": "ipython",
        "version": 3
      },
      "file_extension": ".py",
      "mimetype": "text/x-python",
      "name": "python",
      "nbconvert_exporter": "python",
      "pygments_lexer": "ipython3",
      "version": "3.8.8"
    },
    "toc": {
      "base_numbering": 1,
      "nav_menu": {},
      "number_sections": false,
      "sideBar": true,
      "skip_h1_title": false,
      "title_cell": "Table of Contents",
      "title_sidebar": "Contents",
      "toc_cell": false,
      "toc_position": {
        "height": "calc(100% - 180px)",
        "left": "10px",
        "top": "150px",
        "width": "184.312px"
      },
      "toc_section_display": true,
      "toc_window_display": true
    }
  },
  "nbformat": 4,
  "nbformat_minor": 0
}